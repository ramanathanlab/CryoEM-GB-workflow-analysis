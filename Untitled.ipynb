{
 "cells": [
  {
   "cell_type": "code",
   "execution_count": 53,
   "metadata": {},
   "outputs": [],
   "source": [
    "from matplotlib import pyplot as plt\n",
    "from balsam.api import Job\n",
    "from balsam.analytics import throughput_report, utilization_report\n",
    "from pathlib import Path\n",
    "import pickle\n",
    "from datetime import datetime, timedelta\n",
    "\n",
    "import seaborn as sns\n",
    "sns.set_context('paper')\n"
   ]
  },
  {
   "cell_type": "code",
   "execution_count": 54,
   "metadata": {},
   "outputs": [],
   "source": [
    "experiments = [\"perlmutter-production-final\", \"production-cross2\", \"production-thetagpu-0\"]\n",
    "\n",
    "experiment_dirs = {exp: Path(\"paper-summary/\") / exp for exp in experiments}\n",
    "\n",
    "events = {}\n",
    "\n",
    "for exp in experiments:\n",
    "    events[exp] = pickle.load(open(experiment_dirs[exp] / \"events.pkl\", 'rb'))"
   ]
  },
  {
   "cell_type": "code",
   "execution_count": 55,
   "metadata": {},
   "outputs": [
    {
     "data": {
      "text/plain": [
       "dict_keys(['perlmutter-production-final', 'production-cross2', 'production-thetagpu-0'])"
      ]
     },
     "execution_count": 55,
     "metadata": {},
     "output_type": "execute_result"
    }
   ],
   "source": [
    "events.keys()"
   ]
  },
  {
   "cell_type": "code",
   "execution_count": 56,
   "metadata": {},
   "outputs": [],
   "source": [
    "def throughput(events_list, to_state=\"RUN_DONE\", t0: datetime = None):\n",
    "    \"\"\"\n",
    "    If t0 is not None, return times as elapsed minutes since t0.  \n",
    "    Otherwise t0 is set to the earliest event in the events_list.\n",
    "    \"\"\"\n",
    "    events = [e for e in events_list if e.to_state == to_state]\n",
    "    events = sorted(events, key = lambda evt: evt.timestamp)\n",
    "    \n",
    "    times = [e.timestamp for e in events]\n",
    "    \n",
    "    if t0 is None:\n",
    "        t0 = min(times)\n",
    "        \n",
    "    elapsed_minutes = [(t - t0).total_seconds() / 60.0 for t in times]\n",
    "\n",
    "    counts = list(range(1, len(times) + 1))\n",
    "    \n",
    "    return elapsed_minutes, counts"
   ]
  },
  {
   "cell_type": "code",
   "execution_count": 57,
   "metadata": {},
   "outputs": [
    {
     "data": {
      "text/plain": [
       "Text(0, 0.5, 'Completed NAMD Restarts')"
      ]
     },
     "execution_count": 57,
     "metadata": {},
     "output_type": "execute_result"
    },
    {
     "data": {
      "image/png": "[encoded data removed]",
      "text/plain": [
       "<Figure size 432x288 with 1 Axes>"
      ]
     },
     "metadata": {
      "needs_background": "light"
     },
     "output_type": "display_data"
    }
   ],
   "source": [
    "time_series_tuple = throughput(events[\"production-cross2\"][\"namd_perlmutter\"])\n",
    "fig, ax = plt.subplots()\n",
    "ax.step(*time_series_tuple, where=\"post\", label=\"Perlmutter\")\n",
    "\n",
    "time_series_tuple = throughput(events[\"production-cross2\"][\"namd_thetagpu\"])\n",
    "ax.step(*time_series_tuple, where=\"post\", label=\"ThetaGPU\")\n",
    "ax.legend()\n",
    "\n",
    "ax.set_xlabel(\"Elapsed Time / min\")\n",
    "ax.set_ylabel(\"Completed NAMD Restarts\")"
   ]
  },
  {
   "cell_type": "code",
   "execution_count": 58,
   "metadata": {},
   "outputs": [],
   "source": [
    "from itertools import accumulate # cumulative summation\n",
    "\n",
    "def utilization(events, node_weighting: bool = True, t0 = None):\n",
    "    job_events = []\n",
    "    nodes_by_id: Dict[int, float] = {}\n",
    "        \n",
    "    for evt in [e for e in events if e.to_state==\"RUNNING\"]:\n",
    "        usage_count = evt.data[\"num_nodes\"] if node_weighting else 1.0\n",
    "        nodes_by_id[evt.job_id] = usage_count\n",
    "        job_events.append((evt.timestamp, usage_count))\n",
    "        \n",
    "    for evt in [e for e in events if e.from_state==\"RUNNING\"]:\n",
    "        job_events.append((evt.timestamp, -1.0 * nodes_by_id.get(evt.job_id, 1.0)))\n",
    "\n",
    "    times, counts = zip(*sorted(job_events))\n",
    "    times = list(times)\n",
    "    utilizations = list(accumulate(counts))\n",
    "    \n",
    "    if t0 is None:\n",
    "        t0 = min(times)\n",
    "        \n",
    "    elapsed_minutes = [(t - t0).total_seconds() / 60.0 for t in times]\n",
    "    \n",
    "    return elapsed_minutes, utilizations"
   ]
  },
  {
   "cell_type": "code",
   "execution_count": 73,
   "metadata": {},
   "outputs": [
    {
     "data": {
      "text/plain": [
       "<matplotlib.legend.Legend at 0x7fd4722fae80>"
      ]
     },
     "execution_count": 73,
     "metadata": {},
     "output_type": "execute_result"
    },
    {
     "data": {
      "image/png": "[encoded data removed]",
      "text/plain": [
       "<Figure size 432x288 with 1 Axes>"
      ]
     },
     "metadata": {
      "needs_background": "light"
     },
     "output_type": "display_data"
    }
   ],
   "source": [
    "\n",
    "# When node_weighting=True each Perlmutter job counts as 1/4 of a node (cause packing count is 4):\n",
    "\n",
    "namd_evts = events[\"production-cross2\"][\"namd_perlmutter\"]\n",
    "t0 = min(e.timestamp for e in namd_evts)\n",
    "\n",
    "times, util_counts = utilization(namd_evts, t0=t0, node_weighting=True)\n",
    "\n",
    "node_total = 38.0 # we had 38 nodes for this run\n",
    "util_percentage = [100 * c / node_total for c in util_counts]\n",
    "\n",
    "fig, ax = plt.subplots()\n",
    "ax.step(times, util_percentage, where=\"post\", label=\"Perlmutter\")\n",
    "\n",
    "ax.set_title(\"Disk Quota Exceeded at 100 minute mark :(\")\n",
    "ax.set_xlabel(\"Elapsed time / minutes\")\n",
    "ax.set_ylabel(\"Perlmutter Utilization %\")\n",
    "ax.set_xlim(0, 90)\n",
    "ax.set_ylim(60, 105)\n",
    "\n",
    "\n",
    "train_starts = [e.timestamp for e in events[\"production-cross2\"][\"anca_ae_train_namd\"] if e.to_state == \"RUNNING\"]\n",
    "train_starts = [(t - t0).total_seconds() / 60.0 for t in train_starts]\n",
    "\n",
    "infer_starts = [e.timestamp for e in events[\"production-cross2\"][\"anca_ae_infer_namd\"] if e.to_state == \"RUNNING\"]\n",
    "infer_starts = [(t - t0).total_seconds() / 60.0 for t in infer_starts]\n",
    "\n",
    "for i, t in enumerate(train_starts):\n",
    "    label = {\"label\": \"train\"} if i == 0 else {}\n",
    "    ax.axvline(x=t, color='r', alpha=0.5, lw=2, ls='--', **label)\n",
    "    \n",
    "for i, t in enumerate(infer_starts):\n",
    "    label = {\"label\": \"infer\"} if i == 0 else {}\n",
    "    ax.axvline(x=t, color='g', alpha=0.5, lw=2, ls='--', **label)\n",
    "    \n",
    "ax.legend()"
   ]
  },
  {
   "cell_type": "code",
   "execution_count": 63,
   "metadata": {},
   "outputs": [
    {
     "data": {
      "text/plain": [
       "<bound method Axes.axvline of <matplotlib.axes._subplots.AxesSubplot object at 0x7fd471ec8100>>"
      ]
     },
     "execution_count": 63,
     "metadata": {},
     "output_type": "execute_result"
    }
   ],
   "source": [
    "ax.axvline()"
   ]
  }
 ],
 "metadata": {
  "kernelspec": {
   "display_name": "Python 3",
   "language": "python",
   "name": "python3"
  },
  "language_info": {
   "codemirror_mode": {
    "name": "ipython",
    "version": 3
   },
   "file_extension": ".py",
   "mimetype": "text/x-python",
   "name": "python",
   "nbconvert_exporter": "python",
   "pygments_lexer": "ipython3",
   "version": "3.8.3"
  }
 },
 "nbformat": 4,
 "nbformat_minor": 4
}
