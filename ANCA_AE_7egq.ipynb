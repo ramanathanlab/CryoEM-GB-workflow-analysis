{
 "cells": [
  {
   "cell_type": "code",
   "execution_count": 2,
   "metadata": {},
   "outputs": [],
   "source": [
    "from pathlib import Path\n",
    "import MDAnalysis as mda\n",
    "from typing import List, Tuple\n",
    "from tqdm import tqdm\n",
    "import numpy as np\n",
    "import matplotlib.pyplot as plt\n",
    "import plotly \n",
    "\n",
    "def show_scatter(data: np.ndarray, color: np.ndarray):\n",
    "    fig = plt.figure()\n",
    "    ax = fig.add_subplot(111, projection='3d')\n",
    "    ax.set_facecolor('white')\n",
    "    ff = ax.scatter(data[:, 0], data[:, 1], data[:, 2], c=color)\n",
    "    plt.colorbar(ff)\n",
    "    plt.show()"
   ]
  },
  {
   "cell_type": "code",
   "execution_count": 5,
   "metadata": {},
   "outputs": [],
   "source": [
    "# Store intermediate results\n",
    "output_path = Path(\".\") / \"results\"\n",
    "output_path.mkdir(exist_ok=True)"
   ]
  },
  {
   "cell_type": "code",
   "execution_count": 3,
   "metadata": {},
   "outputs": [],
   "source": [
    "import plotly"
   ]
  },
  {
   "cell_type": "code",
   "execution_count": 3,
   "metadata": {},
   "outputs": [],
   "source": [
    "def get_positions(pdb_file: Path, dcd_file: Path, selection: str):\n",
    "    positions = []\n",
    "    u = mda.Universe(str(pdb_file), str(dcd_file))\n",
    "    print(str(dcd_file))\n",
    "    atoms = u.select_atoms(selection)\n",
    "    for _ in u.trajectory:\n",
    "        positions.append(atoms.positions.copy())\n",
    "    positions = np.transpose(positions, [0, 2, 1])\n",
    "    return positions\n",
    "\n",
    "def get_all_positions(pdb_file: Path, dcd_files: List[Path], selection: str):\n",
    "    positions = [\n",
    "        get_positions(pdb_file, dcd_file, selection) \n",
    "        for dcd_file in tqdm(dcd_files)\n",
    "    ]        \n",
    "    return np.concatenate(positions)"
   ]
  },
  {
   "cell_type": "code",
   "execution_count": 4,
   "metadata": {},
   "outputs": [
    {
     "name": "stdout",
     "output_type": "stream",
     "text": [
      "Total DCD files: 256\n"
     ]
    },
    {
     "name": "stderr",
     "output_type": "stream",
     "text": [
      "\r",
      "  0%|                                                                                                                                                                                   | 0/256 [00:00<?, ?it/s]"
     ]
    },
    {
     "name": "stdout",
     "output_type": "stream",
     "text": [
      "/lus/theta-fs0/projects/RL-fold/atrifan/nsp_gb/Cryo-FFEA/run1/eq.3.0.dcd\n"
     ]
    },
    {
     "name": "stderr",
     "output_type": "stream",
     "text": [
      "\r",
      "  0%|▋                                                                                                                                                                        | 1/256 [00:29<2:07:18, 29.95s/it]"
     ]
    },
    {
     "name": "stdout",
     "output_type": "stream",
     "text": [
      "/lus/theta-fs0/projects/RL-fold/atrifan/nsp_gb/Cryo-FFEA/run1/eq.3.1.dcd\n"
     ]
    },
    {
     "name": "stderr",
     "output_type": "stream",
     "text": [
      "\r",
      "  1%|█▎                                                                                                                                                                       | 2/256 [01:00<2:07:34, 30.13s/it]"
     ]
    },
    {
     "name": "stdout",
     "output_type": "stream",
     "text": [
      "/lus/theta-fs0/projects/RL-fold/atrifan/nsp_gb/Cryo-FFEA/run1/eq.3.2.dcd\n"
     ]
    },
    {
     "name": "stderr",
     "output_type": "stream",
     "text": [
      "\r",
      "  1%|█▉                                                                                                                                                                       | 3/256 [01:30<2:07:15, 30.18s/it]"
     ]
    },
    {
     "name": "stdout",
     "output_type": "stream",
     "text": [
      "/lus/theta-fs0/projects/RL-fold/atrifan/nsp_gb/Cryo-FFEA/run1/eq.3.3.dcd\n"
     ]
    },
    {
     "name": "stderr",
     "output_type": "stream",
     "text": [
      "\r",
      "  2%|██▋                                                                                                                                                                      | 4/256 [02:03<2:10:53, 31.17s/it]"
     ]
    },
    {
     "name": "stdout",
     "output_type": "stream",
     "text": [
      "/lus/theta-fs0/projects/RL-fold/atrifan/nsp_gb/Cryo-FFEA/run1/eq.3.4.dcd\n"
     ]
    },
    {
     "name": "stderr",
     "output_type": "stream",
     "text": [
      "\r",
      "  2%|███▎                                                                                                                                                                     | 5/256 [02:35<2:12:17, 31.62s/it]"
     ]
    },
    {
     "name": "stdout",
     "output_type": "stream",
     "text": [
      "/lus/theta-fs0/projects/RL-fold/atrifan/nsp_gb/Cryo-FFEA/run1/eq.3.5.dcd\n"
     ]
    },
    {
     "name": "stderr",
     "output_type": "stream",
     "text": [
      "\r",
      "  2%|███▉                                                                                                                                                                     | 6/256 [03:07<2:11:38, 31.59s/it]"
     ]
    },
    {
     "name": "stdout",
     "output_type": "stream",
     "text": [
      "/lus/theta-fs0/projects/RL-fold/atrifan/nsp_gb/Cryo-FFEA/run1/eq.3.6.dcd\n"
     ]
    },
    {
     "name": "stderr",
     "output_type": "stream",
     "text": [
      "\r",
      "  3%|████▌                                                                                                                                                                    | 7/256 [03:38<2:10:16, 31.39s/it]"
     ]
    },
    {
     "name": "stdout",
     "output_type": "stream",
     "text": [
      "/lus/theta-fs0/projects/RL-fold/atrifan/nsp_gb/Cryo-FFEA/run1/eq.3.7.dcd\n"
     ]
    },
    {
     "name": "stderr",
     "output_type": "stream",
     "text": [
      "\r",
      "  3%|█████▎                                                                                                                                                                   | 8/256 [04:11<2:11:54, 31.91s/it]"
     ]
    },
    {
     "name": "stdout",
     "output_type": "stream",
     "text": [
      "/lus/theta-fs0/projects/RL-fold/atrifan/nsp_gb/Cryo-FFEA/run1/eq.4.0.dcd\n"
     ]
    },
    {
     "name": "stderr",
     "output_type": "stream",
     "text": [
      "\r",
      "  4%|█████▉                                                                                                                                                                   | 9/256 [04:47<2:16:56, 33.26s/it]"
     ]
    },
    {
     "name": "stdout",
     "output_type": "stream",
     "text": [
      "/lus/theta-fs0/projects/RL-fold/atrifan/nsp_gb/Cryo-FFEA/run1/eq.4.1.dcd\n"
     ]
    },
    {
     "name": "stderr",
     "output_type": "stream",
     "text": [
      "\r",
      "  4%|██████▌                                                                                                                                                                 | 10/256 [05:22<2:18:21, 33.75s/it]"
     ]
    },
    {
     "name": "stdout",
     "output_type": "stream",
     "text": [
      "/lus/theta-fs0/projects/RL-fold/atrifan/nsp_gb/Cryo-FFEA/run1/eq.4.2.dcd\n"
     ]
    },
    {
     "name": "stderr",
     "output_type": "stream",
     "text": [
      "\r",
      "  4%|███████▏                                                                                                                                                                | 11/256 [05:54<2:16:39, 33.47s/it]"
     ]
    },
    {
     "name": "stdout",
     "output_type": "stream",
     "text": [
      "/lus/theta-fs0/projects/RL-fold/atrifan/nsp_gb/Cryo-FFEA/run1/eq.4.3.dcd\n"
     ]
    },
    {
     "name": "stderr",
     "output_type": "stream",
     "text": [
      "\r",
      "  5%|███████▉                                                                                                                                                                | 12/256 [06:27<2:14:33, 33.09s/it]"
     ]
    },
    {
     "name": "stdout",
     "output_type": "stream",
     "text": [
      "/lus/theta-fs0/projects/RL-fold/atrifan/nsp_gb/Cryo-FFEA/run1/eq.4.4.dcd\n"
     ]
    },
    {
     "name": "stderr",
     "output_type": "stream",
     "text": [
      "\r",
      "  5%|████████▌                                                                                                                                                               | 13/256 [06:59<2:13:34, 32.98s/it]"
     ]
    },
    {
     "name": "stdout",
     "output_type": "stream",
     "text": [
      "/lus/theta-fs0/projects/RL-fold/atrifan/nsp_gb/Cryo-FFEA/run1/eq.4.5.dcd\n"
     ]
    },
    {
     "name": "stderr",
     "output_type": "stream",
     "text": [
      "\r",
      "  5%|█████████▏                                                                                                                                                              | 14/256 [07:30<2:10:11, 32.28s/it]"
     ]
    },
    {
     "name": "stdout",
     "output_type": "stream",
     "text": [
      "/lus/theta-fs0/projects/RL-fold/atrifan/nsp_gb/Cryo-FFEA/run1/eq.4.6.dcd\n"
     ]
    },
    {
     "name": "stderr",
     "output_type": "stream",
     "text": [
      "\r",
      "  6%|█████████▊                                                                                                                                                              | 15/256 [08:01<2:07:30, 31.74s/it]"
     ]
    },
    {
     "name": "stdout",
     "output_type": "stream",
     "text": [
      "/lus/theta-fs0/projects/RL-fold/atrifan/nsp_gb/Cryo-FFEA/run1/eq.4.7.dcd\n"
     ]
    },
    {
     "name": "stderr",
     "output_type": "stream",
     "text": [
      "\r",
      "  6%|██████████▌                                                                                                                                                             | 16/256 [08:30<2:04:38, 31.16s/it]"
     ]
    },
    {
     "name": "stdout",
     "output_type": "stream",
     "text": [
      "/lus/theta-fs0/projects/RL-fold/atrifan/nsp_gb/Cryo-FFEA/run10/eq.3.0.dcd\n"
     ]
    },
    {
     "name": "stderr",
     "output_type": "stream",
     "text": [
      "\r",
      "  7%|███████████▏                                                                                                                                                            | 17/256 [09:05<2:08:35, 32.28s/it]"
     ]
    },
    {
     "name": "stdout",
     "output_type": "stream",
     "text": [
      "/lus/theta-fs0/projects/RL-fold/atrifan/nsp_gb/Cryo-FFEA/run10/eq.3.1.dcd\n"
     ]
    },
    {
     "name": "stderr",
     "output_type": "stream",
     "text": [
      "\r",
      "  7%|███████████▊                                                                                                                                                            | 18/256 [09:41<2:12:28, 33.40s/it]"
     ]
    },
    {
     "name": "stdout",
     "output_type": "stream",
     "text": [
      "/lus/theta-fs0/projects/RL-fold/atrifan/nsp_gb/Cryo-FFEA/run10/eq.3.2.dcd\n"
     ]
    },
    {
     "name": "stderr",
     "output_type": "stream",
     "text": [
      "\r",
      "  7%|████████████▍                                                                                                                                                           | 19/256 [10:14<2:11:05, 33.19s/it]"
     ]
    },
    {
     "name": "stdout",
     "output_type": "stream",
     "text": [
      "/lus/theta-fs0/projects/RL-fold/atrifan/nsp_gb/Cryo-FFEA/run10/eq.3.3.dcd\n"
     ]
    },
    {
     "name": "stderr",
     "output_type": "stream",
     "text": [
      "\r",
      "  8%|█████████████▏                                                                                                                                                          | 20/256 [10:47<2:09:43, 32.98s/it]"
     ]
    },
    {
     "name": "stdout",
     "output_type": "stream",
     "text": [
      "/lus/theta-fs0/projects/RL-fold/atrifan/nsp_gb/Cryo-FFEA/run10/eq.3.4.dcd\n"
     ]
    },
    {
     "name": "stderr",
     "output_type": "stream",
     "text": [
      "\r",
      "  8%|█████████████▊                                                                                                                                                          | 21/256 [11:19<2:08:10, 32.73s/it]"
     ]
    },
    {
     "name": "stdout",
     "output_type": "stream",
     "text": [
      "/lus/theta-fs0/projects/RL-fold/atrifan/nsp_gb/Cryo-FFEA/run10/eq.3.5.dcd\n"
     ]
    },
    {
     "name": "stderr",
     "output_type": "stream",
     "text": [
      "\r",
      "  9%|██████████████▍                                                                                                                                                         | 22/256 [11:50<2:05:37, 32.21s/it]"
     ]
    },
    {
     "name": "stdout",
     "output_type": "stream",
     "text": [
      "/lus/theta-fs0/projects/RL-fold/atrifan/nsp_gb/Cryo-FFEA/run10/eq.3.6.dcd\n"
     ]
    },
    {
     "name": "stderr",
     "output_type": "stream",
     "text": [
      "\r",
      "  9%|███████████████                                                                                                                                                         | 23/256 [12:23<2:06:40, 32.62s/it]"
     ]
    },
    {
     "name": "stdout",
     "output_type": "stream",
     "text": [
      "/lus/theta-fs0/projects/RL-fold/atrifan/nsp_gb/Cryo-FFEA/run10/eq.3.7.dcd\n"
     ]
    },
    {
     "name": "stderr",
     "output_type": "stream",
     "text": [
      "\r",
      "  9%|███████████████▊                                                                                                                                                        | 24/256 [12:57<2:07:47, 33.05s/it]"
     ]
    },
    {
     "name": "stdout",
     "output_type": "stream",
     "text": [
      "/lus/theta-fs0/projects/RL-fold/atrifan/nsp_gb/Cryo-FFEA/run10/eq.4.0.dcd\n"
     ]
    },
    {
     "name": "stderr",
     "output_type": "stream",
     "text": [
      "\r",
      " 10%|████████████████▍                                                                                                                                                       | 25/256 [13:31<2:07:53, 33.22s/it]"
     ]
    },
    {
     "name": "stdout",
     "output_type": "stream",
     "text": [
      "/lus/theta-fs0/projects/RL-fold/atrifan/nsp_gb/Cryo-FFEA/run10/eq.4.1.dcd\n"
     ]
    },
    {
     "name": "stderr",
     "output_type": "stream",
     "text": [
      "\r",
      " 10%|█████████████████                                                                                                                                                       | 26/256 [14:05<2:08:14, 33.45s/it]"
     ]
    },
    {
     "name": "stdout",
     "output_type": "stream",
     "text": [
      "/lus/theta-fs0/projects/RL-fold/atrifan/nsp_gb/Cryo-FFEA/run10/eq.4.2.dcd\n"
     ]
    },
    {
     "name": "stderr",
     "output_type": "stream",
     "text": [
      "\r",
      " 11%|█████████████████▋                                                                                                                                                      | 27/256 [14:37<2:05:38, 32.92s/it]"
     ]
    },
    {
     "name": "stdout",
     "output_type": "stream",
     "text": [
      "/lus/theta-fs0/projects/RL-fold/atrifan/nsp_gb/Cryo-FFEA/run10/eq.4.3.dcd\n"
     ]
    },
    {
     "name": "stderr",
     "output_type": "stream",
     "text": [
      "\r",
      " 11%|██████████████████▍                                                                                                                                                     | 28/256 [15:09<2:04:47, 32.84s/it]"
     ]
    },
    {
     "name": "stdout",
     "output_type": "stream",
     "text": [
      "/lus/theta-fs0/projects/RL-fold/atrifan/nsp_gb/Cryo-FFEA/run10/eq.4.4.dcd\n"
     ]
    },
    {
     "name": "stderr",
     "output_type": "stream",
     "text": [
      "\r",
      " 11%|███████████████████                                                                                                                                                     | 29/256 [15:43<2:04:55, 33.02s/it]"
     ]
    },
    {
     "name": "stdout",
     "output_type": "stream",
     "text": [
      "/lus/theta-fs0/projects/RL-fold/atrifan/nsp_gb/Cryo-FFEA/run10/eq.4.5.dcd\n"
     ]
    },
    {
     "name": "stderr",
     "output_type": "stream",
     "text": [
      "\r",
      " 12%|███████████████████▋                                                                                                                                                    | 30/256 [16:15<2:03:20, 32.75s/it]"
     ]
    },
    {
     "name": "stdout",
     "output_type": "stream",
     "text": [
      "/lus/theta-fs0/projects/RL-fold/atrifan/nsp_gb/Cryo-FFEA/run10/eq.4.6.dcd\n"
     ]
    },
    {
     "name": "stderr",
     "output_type": "stream",
     "text": [
      "\r",
      " 12%|████████████████████▎                                                                                                                                                   | 31/256 [16:45<1:59:31, 31.87s/it]"
     ]
    },
    {
     "name": "stdout",
     "output_type": "stream",
     "text": [
      "/lus/theta-fs0/projects/RL-fold/atrifan/nsp_gb/Cryo-FFEA/run10/eq.4.7.dcd\n"
     ]
    },
    {
     "name": "stderr",
     "output_type": "stream",
     "text": [
      "\r",
      " 12%|█████████████████████                                                                                                                                                   | 32/256 [17:18<2:00:28, 32.27s/it]"
     ]
    },
    {
     "name": "stdout",
     "output_type": "stream",
     "text": [
      "/lus/theta-fs0/projects/RL-fold/atrifan/nsp_gb/Cryo-FFEA/run11/eq.3.0.dcd\n"
     ]
    },
    {
     "name": "stderr",
     "output_type": "stream",
     "text": [
      "\r",
      " 13%|█████████████████████▋                                                                                                                                                  | 33/256 [17:51<2:01:12, 32.61s/it]"
     ]
    },
    {
     "name": "stdout",
     "output_type": "stream",
     "text": [
      "/lus/theta-fs0/projects/RL-fold/atrifan/nsp_gb/Cryo-FFEA/run11/eq.3.1.dcd\n"
     ]
    },
    {
     "name": "stderr",
     "output_type": "stream",
     "text": [
      "\r",
      " 13%|██████████████████████▎                                                                                                                                                 | 34/256 [18:27<2:03:40, 33.43s/it]"
     ]
    },
    {
     "name": "stdout",
     "output_type": "stream",
     "text": [
      "/lus/theta-fs0/projects/RL-fold/atrifan/nsp_gb/Cryo-FFEA/run11/eq.3.2.dcd\n"
     ]
    },
    {
     "name": "stderr",
     "output_type": "stream",
     "text": [
      "\r",
      " 14%|██████████████████████▉                                                                                                                                                 | 35/256 [19:09<2:13:24, 36.22s/it]"
     ]
    },
    {
     "name": "stdout",
     "output_type": "stream",
     "text": [
      "/lus/theta-fs0/projects/RL-fold/atrifan/nsp_gb/Cryo-FFEA/run11/eq.3.3.dcd\n"
     ]
    },
    {
     "name": "stderr",
     "output_type": "stream",
     "text": [
      "\r",
      " 14%|███████████████████████▋                                                                                                                                                | 36/256 [19:40<2:07:15, 34.71s/it]"
     ]
    },
    {
     "name": "stdout",
     "output_type": "stream",
     "text": [
      "/lus/theta-fs0/projects/RL-fold/atrifan/nsp_gb/Cryo-FFEA/run11/eq.3.4.dcd\n"
     ]
    },
    {
     "name": "stderr",
     "output_type": "stream",
     "text": [
      "\r",
      " 14%|████████████████████████▎                                                                                                                                               | 37/256 [20:13<2:04:40, 34.16s/it]"
     ]
    },
    {
     "name": "stdout",
     "output_type": "stream",
     "text": [
      "/lus/theta-fs0/projects/RL-fold/atrifan/nsp_gb/Cryo-FFEA/run11/eq.3.5.dcd\n"
     ]
    },
    {
     "name": "stderr",
     "output_type": "stream",
     "text": [
      "\r",
      " 15%|████████████████████████▉                                                                                                                                               | 38/256 [20:46<2:02:05, 33.60s/it]"
     ]
    },
    {
     "name": "stdout",
     "output_type": "stream",
     "text": [
      "/lus/theta-fs0/projects/RL-fold/atrifan/nsp_gb/Cryo-FFEA/run11/eq.3.6.dcd\n"
     ]
    },
    {
     "name": "stderr",
     "output_type": "stream",
     "text": [
      "\r",
      " 15%|█████████████████████████▌                                                                                                                                              | 39/256 [21:26<2:08:41, 35.58s/it]"
     ]
    },
    {
     "name": "stdout",
     "output_type": "stream",
     "text": [
      "/lus/theta-fs0/projects/RL-fold/atrifan/nsp_gb/Cryo-FFEA/run11/eq.3.7.dcd\n"
     ]
    },
    {
     "name": "stderr",
     "output_type": "stream",
     "text": [
      "\r",
      " 16%|██████████████████████████▎                                                                                                                                             | 40/256 [21:54<2:00:26, 33.46s/it]"
     ]
    },
    {
     "name": "stdout",
     "output_type": "stream",
     "text": [
      "/lus/theta-fs0/projects/RL-fold/atrifan/nsp_gb/Cryo-FFEA/run11/eq.4.0.dcd\n"
     ]
    },
    {
     "name": "stderr",
     "output_type": "stream",
     "text": [
      "\r",
      " 16%|██████████████████████████▉                                                                                                                                             | 41/256 [22:25<1:57:04, 32.67s/it]"
     ]
    },
    {
     "name": "stdout",
     "output_type": "stream",
     "text": [
      "/lus/theta-fs0/projects/RL-fold/atrifan/nsp_gb/Cryo-FFEA/run11/eq.4.1.dcd\n"
     ]
    },
    {
     "name": "stderr",
     "output_type": "stream",
     "text": [
      "\r",
      " 16%|███████████████████████████▌                                                                                                                                            | 42/256 [22:55<1:53:09, 31.73s/it]"
     ]
    },
    {
     "name": "stdout",
     "output_type": "stream",
     "text": [
      "/lus/theta-fs0/projects/RL-fold/atrifan/nsp_gb/Cryo-FFEA/run11/eq.4.2.dcd\n"
     ]
    },
    {
     "name": "stderr",
     "output_type": "stream",
     "text": [
      "\r",
      " 17%|████████████████████████████▏                                                                                                                                           | 43/256 [23:28<1:54:05, 32.14s/it]"
     ]
    },
    {
     "name": "stdout",
     "output_type": "stream",
     "text": [
      "/lus/theta-fs0/projects/RL-fold/atrifan/nsp_gb/Cryo-FFEA/run11/eq.4.3.dcd\n"
     ]
    },
    {
     "name": "stderr",
     "output_type": "stream",
     "text": [
      "\r",
      " 17%|████████████████████████████▉                                                                                                                                           | 44/256 [24:02<1:55:44, 32.76s/it]"
     ]
    },
    {
     "name": "stdout",
     "output_type": "stream",
     "text": [
      "/lus/theta-fs0/projects/RL-fold/atrifan/nsp_gb/Cryo-FFEA/run11/eq.4.4.dcd\n"
     ]
    },
    {
     "name": "stderr",
     "output_type": "stream",
     "text": [
      "\r",
      " 18%|█████████████████████████████▌                                                                                                                                          | 45/256 [24:32<1:52:28, 31.98s/it]"
     ]
    },
    {
     "name": "stdout",
     "output_type": "stream",
     "text": [
      "/lus/theta-fs0/projects/RL-fold/atrifan/nsp_gb/Cryo-FFEA/run11/eq.4.5.dcd\n"
     ]
    },
    {
     "name": "stderr",
     "output_type": "stream",
     "text": [
      "\r",
      " 18%|██████████████████████████████▏                                                                                                                                         | 46/256 [25:01<1:48:23, 30.97s/it]"
     ]
    },
    {
     "name": "stdout",
     "output_type": "stream",
     "text": [
      "/lus/theta-fs0/projects/RL-fold/atrifan/nsp_gb/Cryo-FFEA/run11/eq.4.6.dcd\n"
     ]
    },
    {
     "name": "stderr",
     "output_type": "stream",
     "text": [
      "\r",
      " 18%|██████████████████████████████▊                                                                                                                                         | 47/256 [25:32<1:47:38, 30.90s/it]"
     ]
    },
    {
     "name": "stdout",
     "output_type": "stream",
     "text": [
      "/lus/theta-fs0/projects/RL-fold/atrifan/nsp_gb/Cryo-FFEA/run11/eq.4.7.dcd\n"
     ]
    },
    {
     "name": "stderr",
     "output_type": "stream",
     "text": [
      "\r",
      " 19%|███████████████████████████████▌                                                                                                                                        | 48/256 [26:01<1:45:09, 30.34s/it]"
     ]
    },
    {
     "name": "stdout",
     "output_type": "stream",
     "text": [
      "/lus/theta-fs0/projects/RL-fold/atrifan/nsp_gb/Cryo-FFEA/run12/eq.3.0.dcd\n"
     ]
    },
    {
     "name": "stderr",
     "output_type": "stream",
     "text": [
      "\r",
      " 19%|████████████████████████████████▏                                                                                                                                       | 49/256 [26:30<1:43:48, 30.09s/it]"
     ]
    },
    {
     "name": "stdout",
     "output_type": "stream",
     "text": [
      "/lus/theta-fs0/projects/RL-fold/atrifan/nsp_gb/Cryo-FFEA/run12/eq.3.1.dcd\n"
     ]
    },
    {
     "name": "stderr",
     "output_type": "stream",
     "text": [
      "\r",
      " 20%|████████████████████████████████▊                                                                                                                                       | 50/256 [26:59<1:42:32, 29.87s/it]"
     ]
    },
    {
     "name": "stdout",
     "output_type": "stream",
     "text": [
      "/lus/theta-fs0/projects/RL-fold/atrifan/nsp_gb/Cryo-FFEA/run12/eq.3.2.dcd\n"
     ]
    },
    {
     "name": "stderr",
     "output_type": "stream",
     "text": [
      "\r",
      " 20%|█████████████████████████████████▍                                                                                                                                      | 51/256 [27:33<1:46:04, 31.05s/it]"
     ]
    },
    {
     "name": "stdout",
     "output_type": "stream",
     "text": [
      "/lus/theta-fs0/projects/RL-fold/atrifan/nsp_gb/Cryo-FFEA/run12/eq.3.3.dcd\n"
     ]
    },
    {
     "name": "stderr",
     "output_type": "stream",
     "text": [
      "\r",
      " 20%|██████████████████████████████████▏                                                                                                                                     | 52/256 [28:04<1:45:37, 31.07s/it]"
     ]
    },
    {
     "name": "stdout",
     "output_type": "stream",
     "text": [
      "/lus/theta-fs0/projects/RL-fold/atrifan/nsp_gb/Cryo-FFEA/run12/eq.3.4.dcd\n"
     ]
    },
    {
     "name": "stderr",
     "output_type": "stream",
     "text": [
      "\r",
      " 21%|██████████████████████████████████▊                                                                                                                                     | 53/256 [28:33<1:42:36, 30.33s/it]"
     ]
    },
    {
     "name": "stdout",
     "output_type": "stream",
     "text": [
      "/lus/theta-fs0/projects/RL-fold/atrifan/nsp_gb/Cryo-FFEA/run12/eq.3.5.dcd\n"
     ]
    },
    {
     "name": "stderr",
     "output_type": "stream",
     "text": [
      "\r",
      " 21%|███████████████████████████████████▍                                                                                                                                    | 54/256 [29:05<1:44:21, 31.00s/it]"
     ]
    },
    {
     "name": "stdout",
     "output_type": "stream",
     "text": [
      "/lus/theta-fs0/projects/RL-fold/atrifan/nsp_gb/Cryo-FFEA/run12/eq.3.6.dcd\n"
     ]
    },
    {
     "name": "stderr",
     "output_type": "stream",
     "text": [
      "\r",
      " 21%|████████████████████████████████████                                                                                                                                    | 55/256 [29:35<1:42:32, 30.61s/it]"
     ]
    },
    {
     "name": "stdout",
     "output_type": "stream",
     "text": [
      "/lus/theta-fs0/projects/RL-fold/atrifan/nsp_gb/Cryo-FFEA/run12/eq.3.7.dcd\n"
     ]
    },
    {
     "name": "stderr",
     "output_type": "stream",
     "text": [
      "\r",
      " 22%|████████████████████████████████████▊                                                                                                                                   | 56/256 [30:04<1:40:44, 30.22s/it]"
     ]
    },
    {
     "name": "stdout",
     "output_type": "stream",
     "text": [
      "/lus/theta-fs0/projects/RL-fold/atrifan/nsp_gb/Cryo-FFEA/run12/eq.4.0.dcd\n"
     ]
    },
    {
     "name": "stderr",
     "output_type": "stream",
     "text": [
      "\r",
      " 22%|█████████████████████████████████████▍                                                                                                                                  | 57/256 [30:30<1:35:20, 28.75s/it]"
     ]
    },
    {
     "name": "stdout",
     "output_type": "stream",
     "text": [
      "/lus/theta-fs0/projects/RL-fold/atrifan/nsp_gb/Cryo-FFEA/run12/eq.4.1.dcd\n"
     ]
    },
    {
     "name": "stderr",
     "output_type": "stream",
     "text": [
      "\r",
      " 23%|██████████████████████████████████████                                                                                                                                  | 58/256 [31:03<1:39:44, 30.23s/it]"
     ]
    },
    {
     "name": "stdout",
     "output_type": "stream",
     "text": [
      "/lus/theta-fs0/projects/RL-fold/atrifan/nsp_gb/Cryo-FFEA/run12/eq.4.2.dcd\n"
     ]
    },
    {
     "name": "stderr",
     "output_type": "stream",
     "text": [
      "\r",
      " 23%|██████████████████████████████████████▋                                                                                                                                 | 59/256 [31:31<1:36:52, 29.50s/it]"
     ]
    },
    {
     "name": "stdout",
     "output_type": "stream",
     "text": [
      "/lus/theta-fs0/projects/RL-fold/atrifan/nsp_gb/Cryo-FFEA/run12/eq.4.3.dcd\n"
     ]
    },
    {
     "name": "stderr",
     "output_type": "stream",
     "text": [
      "\r",
      " 23%|███████████████████████████████████████▍                                                                                                                                | 60/256 [32:00<1:36:05, 29.42s/it]"
     ]
    },
    {
     "name": "stdout",
     "output_type": "stream",
     "text": [
      "/lus/theta-fs0/projects/RL-fold/atrifan/nsp_gb/Cryo-FFEA/run12/eq.4.4.dcd\n"
     ]
    },
    {
     "name": "stderr",
     "output_type": "stream",
     "text": [
      "\r",
      " 24%|████████████████████████████████████████                                                                                                                                | 61/256 [32:32<1:37:23, 29.97s/it]"
     ]
    },
    {
     "name": "stdout",
     "output_type": "stream",
     "text": [
      "/lus/theta-fs0/projects/RL-fold/atrifan/nsp_gb/Cryo-FFEA/run12/eq.4.5.dcd\n"
     ]
    },
    {
     "name": "stderr",
     "output_type": "stream",
     "text": [
      "\r",
      " 24%|████████████████████████████████████████▋                                                                                                                               | 62/256 [33:03<1:37:49, 30.26s/it]"
     ]
    },
    {
     "name": "stdout",
     "output_type": "stream",
     "text": [
      "/lus/theta-fs0/projects/RL-fold/atrifan/nsp_gb/Cryo-FFEA/run12/eq.4.6.dcd\n"
     ]
    },
    {
     "name": "stderr",
     "output_type": "stream",
     "text": [
      "\r",
      " 25%|█████████████████████████████████████████▎                                                                                                                              | 63/256 [33:36<1:40:22, 31.21s/it]"
     ]
    },
    {
     "name": "stdout",
     "output_type": "stream",
     "text": [
      "/lus/theta-fs0/projects/RL-fold/atrifan/nsp_gb/Cryo-FFEA/run12/eq.4.7.dcd\n"
     ]
    },
    {
     "name": "stderr",
     "output_type": "stream",
     "text": [
      "\r",
      " 25%|██████████████████████████████████████████                                                                                                                              | 64/256 [34:04<1:37:02, 30.32s/it]"
     ]
    },
    {
     "name": "stdout",
     "output_type": "stream",
     "text": [
      "/lus/theta-fs0/projects/RL-fold/atrifan/nsp_gb/Cryo-FFEA/run13/eq.3.0.dcd\n"
     ]
    },
    {
     "name": "stderr",
     "output_type": "stream",
     "text": [
      "\r",
      " 25%|██████████████████████████████████████████▋                                                                                                                             | 65/256 [34:36<1:37:27, 30.62s/it]"
     ]
    },
    {
     "name": "stdout",
     "output_type": "stream",
     "text": [
      "/lus/theta-fs0/projects/RL-fold/atrifan/nsp_gb/Cryo-FFEA/run13/eq.3.1.dcd\n"
     ]
    },
    {
     "name": "stderr",
     "output_type": "stream",
     "text": [
      "\r",
      " 26%|███████████████████████████████████████████▎                                                                                                                            | 66/256 [35:12<1:42:24, 32.34s/it]"
     ]
    },
    {
     "name": "stdout",
     "output_type": "stream",
     "text": [
      "/lus/theta-fs0/projects/RL-fold/atrifan/nsp_gb/Cryo-FFEA/run13/eq.3.2.dcd\n"
     ]
    },
    {
     "name": "stderr",
     "output_type": "stream",
     "text": [
      "\r",
      " 26%|███████████████████████████████████████████▉                                                                                                                            | 67/256 [35:43<1:40:47, 32.00s/it]"
     ]
    },
    {
     "name": "stdout",
     "output_type": "stream",
     "text": [
      "/lus/theta-fs0/projects/RL-fold/atrifan/nsp_gb/Cryo-FFEA/run13/eq.3.3.dcd\n"
     ]
    },
    {
     "name": "stderr",
     "output_type": "stream",
     "text": [
      "\r",
      " 27%|████████████████████████████████████████████▋                                                                                                                           | 68/256 [36:16<1:40:50, 32.18s/it]"
     ]
    },
    {
     "name": "stdout",
     "output_type": "stream",
     "text": [
      "/lus/theta-fs0/projects/RL-fold/atrifan/nsp_gb/Cryo-FFEA/run13/eq.3.4.dcd\n"
     ]
    },
    {
     "name": "stderr",
     "output_type": "stream",
     "text": [
      "\r",
      " 27%|█████████████████████████████████████████████▎                                                                                                                          | 69/256 [36:51<1:43:30, 33.21s/it]"
     ]
    },
    {
     "name": "stdout",
     "output_type": "stream",
     "text": [
      "/lus/theta-fs0/projects/RL-fold/atrifan/nsp_gb/Cryo-FFEA/run13/eq.3.5.dcd\n"
     ]
    },
    {
     "name": "stderr",
     "output_type": "stream",
     "text": [
      "\r",
      " 27%|█████████████████████████████████████████████▉                                                                                                                          | 70/256 [37:25<1:42:52, 33.18s/it]"
     ]
    },
    {
     "name": "stdout",
     "output_type": "stream",
     "text": [
      "/lus/theta-fs0/projects/RL-fold/atrifan/nsp_gb/Cryo-FFEA/run13/eq.3.6.dcd\n"
     ]
    },
    {
     "name": "stderr",
     "output_type": "stream",
     "text": [
      "\r",
      " 28%|██████████████████████████████████████████████▌                                                                                                                         | 71/256 [38:17<1:59:39, 38.81s/it]"
     ]
    },
    {
     "name": "stdout",
     "output_type": "stream",
     "text": [
      "/lus/theta-fs0/projects/RL-fold/atrifan/nsp_gb/Cryo-FFEA/run13/eq.3.7.dcd\n"
     ]
    },
    {
     "name": "stderr",
     "output_type": "stream",
     "text": [
      "\r",
      " 28%|███████████████████████████████████████████████▎                                                                                                                        | 72/256 [38:54<1:57:35, 38.35s/it]"
     ]
    },
    {
     "name": "stdout",
     "output_type": "stream",
     "text": [
      "/lus/theta-fs0/projects/RL-fold/atrifan/nsp_gb/Cryo-FFEA/run13/eq.4.0.dcd\n"
     ]
    },
    {
     "name": "stderr",
     "output_type": "stream",
     "text": [
      "\r",
      " 29%|███████████████████████████████████████████████▉                                                                                                                        | 73/256 [39:28<1:52:47, 36.98s/it]"
     ]
    },
    {
     "name": "stdout",
     "output_type": "stream",
     "text": [
      "/lus/theta-fs0/projects/RL-fold/atrifan/nsp_gb/Cryo-FFEA/run13/eq.4.1.dcd\n"
     ]
    },
    {
     "name": "stderr",
     "output_type": "stream",
     "text": [
      "\r",
      " 29%|████████████████████████████████████████████████▌                                                                                                                       | 74/256 [40:01<1:48:46, 35.86s/it]"
     ]
    },
    {
     "name": "stdout",
     "output_type": "stream",
     "text": [
      "/lus/theta-fs0/projects/RL-fold/atrifan/nsp_gb/Cryo-FFEA/run13/eq.4.2.dcd\n"
     ]
    },
    {
     "name": "stderr",
     "output_type": "stream",
     "text": [
      "\r",
      " 29%|█████████████████████████████████████████████████▏                                                                                                                      | 75/256 [40:35<1:46:26, 35.28s/it]"
     ]
    },
    {
     "name": "stdout",
     "output_type": "stream",
     "text": [
      "/lus/theta-fs0/projects/RL-fold/atrifan/nsp_gb/Cryo-FFEA/run13/eq.4.3.dcd\n"
     ]
    },
    {
     "name": "stderr",
     "output_type": "stream",
     "text": [
      "\r",
      " 30%|█████████████████████████████████████████████████▉                                                                                                                      | 76/256 [41:12<1:47:52, 35.96s/it]"
     ]
    },
    {
     "name": "stdout",
     "output_type": "stream",
     "text": [
      "/lus/theta-fs0/projects/RL-fold/atrifan/nsp_gb/Cryo-FFEA/run13/eq.4.4.dcd\n"
     ]
    },
    {
     "name": "stderr",
     "output_type": "stream",
     "text": [
      "\r",
      " 30%|██████████████████████████████████████████████████▌                                                                                                                     | 77/256 [41:53<1:51:28, 37.37s/it]"
     ]
    },
    {
     "name": "stdout",
     "output_type": "stream",
     "text": [
      "/lus/theta-fs0/projects/RL-fold/atrifan/nsp_gb/Cryo-FFEA/run13/eq.4.5.dcd\n"
     ]
    },
    {
     "name": "stderr",
     "output_type": "stream",
     "text": [
      "\r",
      " 30%|███████████████████████████████████████████████████▏                                                                                                                    | 78/256 [42:24<1:44:53, 35.36s/it]"
     ]
    },
    {
     "name": "stdout",
     "output_type": "stream",
     "text": [
      "/lus/theta-fs0/projects/RL-fold/atrifan/nsp_gb/Cryo-FFEA/run13/eq.4.6.dcd\n"
     ]
    },
    {
     "name": "stderr",
     "output_type": "stream",
     "text": [
      "\r",
      " 31%|███████████████████████████████████████████████████▊                                                                                                                    | 79/256 [42:55<1:41:00, 34.24s/it]"
     ]
    },
    {
     "name": "stdout",
     "output_type": "stream",
     "text": [
      "/lus/theta-fs0/projects/RL-fold/atrifan/nsp_gb/Cryo-FFEA/run13/eq.4.7.dcd\n"
     ]
    },
    {
     "name": "stderr",
     "output_type": "stream",
     "text": [
      "\r",
      " 31%|████████████████████████████████████████████████████▌                                                                                                                   | 80/256 [43:58<2:05:18, 42.72s/it]"
     ]
    },
    {
     "name": "stdout",
     "output_type": "stream",
     "text": [
      "/lus/theta-fs0/projects/RL-fold/atrifan/nsp_gb/Cryo-FFEA/run14/eq.3.0.dcd\n"
     ]
    },
    {
     "name": "stderr",
     "output_type": "stream",
     "text": [
      "\r",
      " 32%|█████████████████████████████████████████████████████▏                                                                                                                  | 81/256 [45:23<2:41:47, 55.47s/it]"
     ]
    },
    {
     "name": "stdout",
     "output_type": "stream",
     "text": [
      "/lus/theta-fs0/projects/RL-fold/atrifan/nsp_gb/Cryo-FFEA/run14/eq.3.1.dcd\n"
     ]
    },
    {
     "name": "stderr",
     "output_type": "stream",
     "text": [
      "\r",
      " 32%|█████████████████████████████████████████████████████▊                                                                                                                  | 82/256 [46:23<2:44:54, 56.86s/it]"
     ]
    },
    {
     "name": "stdout",
     "output_type": "stream",
     "text": [
      "/lus/theta-fs0/projects/RL-fold/atrifan/nsp_gb/Cryo-FFEA/run14/eq.3.2.dcd\n"
     ]
    },
    {
     "name": "stderr",
     "output_type": "stream",
     "text": [
      "\r",
      " 32%|██████████████████████████████████████████████████████▍                                                                                                                 | 83/256 [46:58<2:25:05, 50.32s/it]"
     ]
    },
    {
     "name": "stdout",
     "output_type": "stream",
     "text": [
      "/lus/theta-fs0/projects/RL-fold/atrifan/nsp_gb/Cryo-FFEA/run14/eq.3.3.dcd\n"
     ]
    },
    {
     "name": "stderr",
     "output_type": "stream",
     "text": [
      "\r",
      " 33%|███████████████████████████████████████████████████████▏                                                                                                                | 84/256 [47:48<2:23:42, 50.13s/it]"
     ]
    },
    {
     "name": "stdout",
     "output_type": "stream",
     "text": [
      "/lus/theta-fs0/projects/RL-fold/atrifan/nsp_gb/Cryo-FFEA/run14/eq.3.4.dcd\n"
     ]
    },
    {
     "name": "stderr",
     "output_type": "stream",
     "text": [
      "\r",
      " 33%|███████████████████████████████████████████████████████▊                                                                                                                | 85/256 [50:07<3:39:03, 76.86s/it]"
     ]
    },
    {
     "name": "stdout",
     "output_type": "stream",
     "text": [
      "/lus/theta-fs0/projects/RL-fold/atrifan/nsp_gb/Cryo-FFEA/run14/eq.3.5.dcd\n"
     ]
    },
    {
     "name": "stderr",
     "output_type": "stream",
     "text": [
      "\r",
      " 34%|████████████████████████████████████████████████████████▍                                                                                                               | 86/256 [51:26<3:39:48, 77.58s/it]"
     ]
    },
    {
     "name": "stdout",
     "output_type": "stream",
     "text": [
      "/lus/theta-fs0/projects/RL-fold/atrifan/nsp_gb/Cryo-FFEA/run14/eq.3.6.dcd\n"
     ]
    },
    {
     "name": "stderr",
     "output_type": "stream",
     "text": [
      "\r",
      " 34%|█████████████████████████████████████████████████████████                                                                                                               | 87/256 [51:57<2:58:45, 63.46s/it]"
     ]
    },
    {
     "name": "stdout",
     "output_type": "stream",
     "text": [
      "/lus/theta-fs0/projects/RL-fold/atrifan/nsp_gb/Cryo-FFEA/run14/eq.3.7.dcd\n"
     ]
    },
    {
     "name": "stderr",
     "output_type": "stream",
     "text": [
      "\r",
      " 34%|█████████████████████████████████████████████████████████▊                                                                                                              | 88/256 [52:31<2:33:24, 54.79s/it]"
     ]
    },
    {
     "name": "stdout",
     "output_type": "stream",
     "text": [
      "/lus/theta-fs0/projects/RL-fold/atrifan/nsp_gb/Cryo-FFEA/run14/eq.4.0.dcd\n"
     ]
    },
    {
     "name": "stderr",
     "output_type": "stream",
     "text": [
      "\r",
      " 35%|██████████████████████████████████████████████████████████▍                                                                                                             | 89/256 [53:12<2:20:52, 50.61s/it]"
     ]
    },
    {
     "name": "stdout",
     "output_type": "stream",
     "text": [
      "/lus/theta-fs0/projects/RL-fold/atrifan/nsp_gb/Cryo-FFEA/run14/eq.4.1.dcd\n"
     ]
    },
    {
     "name": "stderr",
     "output_type": "stream",
     "text": [
      "\r",
      " 35%|███████████████████████████████████████████████████████████                                                                                                             | 90/256 [53:46<2:05:51, 45.49s/it]"
     ]
    },
    {
     "name": "stdout",
     "output_type": "stream",
     "text": [
      "/lus/theta-fs0/projects/RL-fold/atrifan/nsp_gb/Cryo-FFEA/run14/eq.4.2.dcd\n"
     ]
    },
    {
     "name": "stderr",
     "output_type": "stream",
     "text": [
      "\r",
      " 36%|███████████████████████████████████████████████████████████▋                                                                                                            | 91/256 [54:16<1:52:18, 40.84s/it]"
     ]
    },
    {
     "name": "stdout",
     "output_type": "stream",
     "text": [
      "/lus/theta-fs0/projects/RL-fold/atrifan/nsp_gb/Cryo-FFEA/run14/eq.4.3.dcd\n"
     ]
    },
    {
     "name": "stderr",
     "output_type": "stream",
     "text": [
      "\r",
      " 36%|████████████████████████████████████████████████████████████▍                                                                                                           | 92/256 [54:44<1:41:11, 37.02s/it]"
     ]
    },
    {
     "name": "stdout",
     "output_type": "stream",
     "text": [
      "/lus/theta-fs0/projects/RL-fold/atrifan/nsp_gb/Cryo-FFEA/run14/eq.4.4.dcd\n"
     ]
    },
    {
     "name": "stderr",
     "output_type": "stream",
     "text": [
      "\r",
      " 36%|█████████████████████████████████████████████████████████████                                                                                                           | 93/256 [55:14<1:34:41, 34.86s/it]"
     ]
    },
    {
     "name": "stdout",
     "output_type": "stream",
     "text": [
      "/lus/theta-fs0/projects/RL-fold/atrifan/nsp_gb/Cryo-FFEA/run14/eq.4.5.dcd\n"
     ]
    },
    {
     "name": "stderr",
     "output_type": "stream",
     "text": [
      "\r",
      " 37%|█████████████████████████████████████████████████████████████▋                                                                                                          | 94/256 [55:43<1:29:45, 33.24s/it]"
     ]
    },
    {
     "name": "stdout",
     "output_type": "stream",
     "text": [
      "/lus/theta-fs0/projects/RL-fold/atrifan/nsp_gb/Cryo-FFEA/run14/eq.4.6.dcd\n"
     ]
    },
    {
     "name": "stderr",
     "output_type": "stream",
     "text": [
      "\r",
      " 37%|██████████████████████████████████████████████████████████████▎                                                                                                         | 95/256 [59:26<4:01:50, 90.13s/it]"
     ]
    },
    {
     "name": "stdout",
     "output_type": "stream",
     "text": [
      "/lus/theta-fs0/projects/RL-fold/atrifan/nsp_gb/Cryo-FFEA/run14/eq.4.7.dcd\n"
     ]
    },
    {
     "name": "stderr",
     "output_type": "stream",
     "text": [
      "\r",
      " 38%|██████████████████████████████████████████████████████████████▎                                                                                                       | 96/256 [1:00:00<3:15:00, 73.13s/it]"
     ]
    },
    {
     "name": "stdout",
     "output_type": "stream",
     "text": [
      "/lus/theta-fs0/projects/RL-fold/atrifan/nsp_gb/Cryo-FFEA/run15/eq.3.0.dcd\n"
     ]
    },
    {
     "name": "stderr",
     "output_type": "stream",
     "text": [
      "\r",
      " 38%|██████████████████████████████████████████████████████████████▉                                                                                                       | 97/256 [1:00:30<2:40:15, 60.48s/it]"
     ]
    },
    {
     "name": "stdout",
     "output_type": "stream",
     "text": [
      "/lus/theta-fs0/projects/RL-fold/atrifan/nsp_gb/Cryo-FFEA/run15/eq.3.1.dcd\n"
     ]
    },
    {
     "name": "stderr",
     "output_type": "stream",
     "text": [
      "\r",
      " 38%|███████████████████████████████████████████████████████████████▌                                                                                                      | 98/256 [1:01:01<2:15:52, 51.60s/it]"
     ]
    },
    {
     "name": "stdout",
     "output_type": "stream",
     "text": [
      "/lus/theta-fs0/projects/RL-fold/atrifan/nsp_gb/Cryo-FFEA/run15/eq.3.2.dcd\n"
     ]
    },
    {
     "name": "stderr",
     "output_type": "stream",
     "text": [
      "\r",
      " 39%|████████████████████████████████████████████████████████████████▏                                                                                                     | 99/256 [1:01:32<1:58:36, 45.32s/it]"
     ]
    },
    {
     "name": "stdout",
     "output_type": "stream",
     "text": [
      "/lus/theta-fs0/projects/RL-fold/atrifan/nsp_gb/Cryo-FFEA/run15/eq.3.3.dcd\n"
     ]
    },
    {
     "name": "stderr",
     "output_type": "stream",
     "text": [
      "\r",
      " 39%|████████████████████████████████████████████████████████████████▍                                                                                                    | 100/256 [1:02:01<1:45:07, 40.43s/it]"
     ]
    },
    {
     "name": "stdout",
     "output_type": "stream",
     "text": [
      "/lus/theta-fs0/projects/RL-fold/atrifan/nsp_gb/Cryo-FFEA/run15/eq.3.4.dcd\n"
     ]
    },
    {
     "name": "stderr",
     "output_type": "stream",
     "text": [
      "\r",
      " 39%|█████████████████████████████████████████████████████████████████                                                                                                    | 101/256 [1:02:32<1:37:10, 37.61s/it]"
     ]
    },
    {
     "name": "stdout",
     "output_type": "stream",
     "text": [
      "/lus/theta-fs0/projects/RL-fold/atrifan/nsp_gb/Cryo-FFEA/run15/eq.3.5.dcd\n"
     ]
    },
    {
     "name": "stderr",
     "output_type": "stream",
     "text": [
      "\r",
      " 40%|█████████████████████████████████████████████████████████████████▋                                                                                                   | 102/256 [1:03:06<1:33:29, 36.42s/it]"
     ]
    },
    {
     "name": "stdout",
     "output_type": "stream",
     "text": [
      "/lus/theta-fs0/projects/RL-fold/atrifan/nsp_gb/Cryo-FFEA/run15/eq.3.6.dcd\n"
     ]
    },
    {
     "name": "stderr",
     "output_type": "stream",
     "text": [
      "\r",
      " 40%|██████████████████████████████████████████████████████████████████▍                                                                                                  | 103/256 [1:03:37<1:28:51, 34.85s/it]"
     ]
    },
    {
     "name": "stdout",
     "output_type": "stream",
     "text": [
      "/lus/theta-fs0/projects/RL-fold/atrifan/nsp_gb/Cryo-FFEA/run15/eq.3.7.dcd\n"
     ]
    },
    {
     "name": "stderr",
     "output_type": "stream",
     "text": [
      "\r",
      " 41%|███████████████████████████████████████████████████████████████████                                                                                                  | 104/256 [1:04:08<1:25:34, 33.78s/it]"
     ]
    },
    {
     "name": "stdout",
     "output_type": "stream",
     "text": [
      "/lus/theta-fs0/projects/RL-fold/atrifan/nsp_gb/Cryo-FFEA/run15/eq.4.0.dcd\n"
     ]
    },
    {
     "name": "stderr",
     "output_type": "stream",
     "text": [
      "\r",
      " 41%|███████████████████████████████████████████████████████████████████▋                                                                                                 | 105/256 [1:04:40<1:23:33, 33.20s/it]"
     ]
    },
    {
     "name": "stdout",
     "output_type": "stream",
     "text": [
      "/lus/theta-fs0/projects/RL-fold/atrifan/nsp_gb/Cryo-FFEA/run15/eq.4.1.dcd\n"
     ]
    },
    {
     "name": "stderr",
     "output_type": "stream",
     "text": [
      "\r",
      " 41%|████████████████████████████████████████████████████████████████████▎                                                                                                | 106/256 [1:05:13<1:22:46, 33.11s/it]"
     ]
    },
    {
     "name": "stdout",
     "output_type": "stream",
     "text": [
      "/lus/theta-fs0/projects/RL-fold/atrifan/nsp_gb/Cryo-FFEA/run15/eq.4.2.dcd\n"
     ]
    },
    {
     "name": "stderr",
     "output_type": "stream",
     "text": [
      "\r",
      " 42%|████████████████████████████████████████████████████████████████████▉                                                                                                | 107/256 [1:05:53<1:27:14, 35.13s/it]"
     ]
    },
    {
     "name": "stdout",
     "output_type": "stream",
     "text": [
      "/lus/theta-fs0/projects/RL-fold/atrifan/nsp_gb/Cryo-FFEA/run15/eq.4.3.dcd\n"
     ]
    },
    {
     "name": "stderr",
     "output_type": "stream",
     "text": [
      "\r",
      " 42%|█████████████████████████████████████████████████████████████████████▌                                                                                               | 108/256 [1:06:32<1:29:39, 36.35s/it]"
     ]
    },
    {
     "name": "stdout",
     "output_type": "stream",
     "text": [
      "/lus/theta-fs0/projects/RL-fold/atrifan/nsp_gb/Cryo-FFEA/run15/eq.4.4.dcd\n"
     ]
    },
    {
     "name": "stderr",
     "output_type": "stream",
     "text": [
      "\r",
      " 43%|██████████████████████████████████████████████████████████████████████▎                                                                                              | 109/256 [1:07:05<1:26:26, 35.28s/it]"
     ]
    },
    {
     "name": "stdout",
     "output_type": "stream",
     "text": [
      "/lus/theta-fs0/projects/RL-fold/atrifan/nsp_gb/Cryo-FFEA/run15/eq.4.5.dcd\n"
     ]
    },
    {
     "name": "stderr",
     "output_type": "stream",
     "text": [
      "\r",
      " 43%|██████████████████████████████████████████████████████████████████████▉                                                                                              | 110/256 [1:07:39<1:25:22, 35.08s/it]"
     ]
    },
    {
     "name": "stdout",
     "output_type": "stream",
     "text": [
      "/lus/theta-fs0/projects/RL-fold/atrifan/nsp_gb/Cryo-FFEA/run15/eq.4.6.dcd\n"
     ]
    },
    {
     "name": "stderr",
     "output_type": "stream",
     "text": [
      "\r",
      " 43%|███████████████████████████████████████████████████████████████████████▌                                                                                             | 111/256 [1:08:14<1:24:24, 34.92s/it]"
     ]
    },
    {
     "name": "stdout",
     "output_type": "stream",
     "text": [
      "/lus/theta-fs0/projects/RL-fold/atrifan/nsp_gb/Cryo-FFEA/run15/eq.4.7.dcd\n"
     ]
    },
    {
     "name": "stderr",
     "output_type": "stream",
     "text": [
      "\r",
      " 44%|████████████████████████████████████████████████████████████████████████▏                                                                                            | 112/256 [1:08:50<1:24:22, 35.15s/it]"
     ]
    },
    {
     "name": "stdout",
     "output_type": "stream",
     "text": [
      "/lus/theta-fs0/projects/RL-fold/atrifan/nsp_gb/Cryo-FFEA/run16/eq.3.0.dcd\n"
     ]
    },
    {
     "name": "stderr",
     "output_type": "stream",
     "text": [
      "\r",
      " 44%|████████████████████████████████████████████████████████████████████████▊                                                                                            | 113/256 [1:09:25<1:23:38, 35.09s/it]"
     ]
    },
    {
     "name": "stdout",
     "output_type": "stream",
     "text": [
      "/lus/theta-fs0/projects/RL-fold/atrifan/nsp_gb/Cryo-FFEA/run16/eq.3.1.dcd\n"
     ]
    },
    {
     "name": "stderr",
     "output_type": "stream",
     "text": [
      "\r",
      " 45%|█████████████████████████████████████████████████████████████████████████▍                                                                                           | 114/256 [1:10:03<1:25:45, 36.24s/it]"
     ]
    },
    {
     "name": "stdout",
     "output_type": "stream",
     "text": [
      "/lus/theta-fs0/projects/RL-fold/atrifan/nsp_gb/Cryo-FFEA/run16/eq.3.2.dcd\n"
     ]
    },
    {
     "name": "stderr",
     "output_type": "stream",
     "text": [
      "\r",
      " 45%|██████████████████████████████████████████████████████████████████████████                                                                                           | 115/256 [1:10:45<1:28:55, 37.84s/it]"
     ]
    },
    {
     "name": "stdout",
     "output_type": "stream",
     "text": [
      "/lus/theta-fs0/projects/RL-fold/atrifan/nsp_gb/Cryo-FFEA/run16/eq.3.3.dcd\n"
     ]
    },
    {
     "name": "stderr",
     "output_type": "stream",
     "text": [
      "\r",
      " 45%|██████████████████████████████████████████████████████████████████████████▊                                                                                          | 116/256 [1:11:15<1:23:01, 35.58s/it]"
     ]
    },
    {
     "name": "stdout",
     "output_type": "stream",
     "text": [
      "/lus/theta-fs0/projects/RL-fold/atrifan/nsp_gb/Cryo-FFEA/run16/eq.3.4.dcd\n"
     ]
    },
    {
     "name": "stderr",
     "output_type": "stream",
     "text": [
      "\r",
      " 46%|███████████████████████████████████████████████████████████████████████████▍                                                                                         | 117/256 [1:11:48<1:20:01, 34.54s/it]"
     ]
    },
    {
     "name": "stdout",
     "output_type": "stream",
     "text": [
      "/lus/theta-fs0/projects/RL-fold/atrifan/nsp_gb/Cryo-FFEA/run16/eq.3.5.dcd\n"
     ]
    },
    {
     "name": "stderr",
     "output_type": "stream",
     "text": [
      "\r",
      " 46%|████████████████████████████████████████████████████████████████████████████                                                                                         | 118/256 [1:12:17<1:16:16, 33.16s/it]"
     ]
    },
    {
     "name": "stdout",
     "output_type": "stream",
     "text": [
      "/lus/theta-fs0/projects/RL-fold/atrifan/nsp_gb/Cryo-FFEA/run16/eq.3.6.dcd\n"
     ]
    },
    {
     "name": "stderr",
     "output_type": "stream",
     "text": [
      "\r",
      " 46%|████████████████████████████████████████████████████████████████████████████▋                                                                                        | 119/256 [1:12:47<1:13:31, 32.20s/it]"
     ]
    },
    {
     "name": "stdout",
     "output_type": "stream",
     "text": [
      "/lus/theta-fs0/projects/RL-fold/atrifan/nsp_gb/Cryo-FFEA/run16/eq.3.7.dcd\n"
     ]
    },
    {
     "name": "stderr",
     "output_type": "stream",
     "text": [
      "\r",
      " 47%|█████████████████████████████████████████████████████████████████████████████▎                                                                                       | 120/256 [1:13:18<1:11:54, 31.73s/it]"
     ]
    },
    {
     "name": "stdout",
     "output_type": "stream",
     "text": [
      "/lus/theta-fs0/projects/RL-fold/atrifan/nsp_gb/Cryo-FFEA/run16/eq.4.0.dcd\n"
     ]
    },
    {
     "name": "stderr",
     "output_type": "stream",
     "text": [
      "\r",
      " 47%|█████████████████████████████████████████████████████████████████████████████▉                                                                                       | 121/256 [1:13:51<1:12:27, 32.20s/it]"
     ]
    },
    {
     "name": "stdout",
     "output_type": "stream",
     "text": [
      "/lus/theta-fs0/projects/RL-fold/atrifan/nsp_gb/Cryo-FFEA/run16/eq.4.1.dcd\n"
     ]
    },
    {
     "name": "stderr",
     "output_type": "stream",
     "text": [
      "\r",
      " 48%|██████████████████████████████████████████████████████████████████████████████▋                                                                                      | 122/256 [1:14:26<1:13:19, 32.83s/it]"
     ]
    },
    {
     "name": "stdout",
     "output_type": "stream",
     "text": [
      "/lus/theta-fs0/projects/RL-fold/atrifan/nsp_gb/Cryo-FFEA/run16/eq.4.2.dcd\n"
     ]
    },
    {
     "name": "stderr",
     "output_type": "stream",
     "text": [
      "\r",
      " 48%|███████████████████████████████████████████████████████████████████████████████▎                                                                                     | 123/256 [1:14:57<1:11:54, 32.44s/it]"
     ]
    },
    {
     "name": "stdout",
     "output_type": "stream",
     "text": [
      "/lus/theta-fs0/projects/RL-fold/atrifan/nsp_gb/Cryo-FFEA/run16/eq.4.3.dcd\n"
     ]
    },
    {
     "name": "stderr",
     "output_type": "stream",
     "text": [
      "\r",
      " 48%|███████████████████████████████████████████████████████████████████████████████▉                                                                                     | 124/256 [1:15:31<1:12:11, 32.81s/it]"
     ]
    },
    {
     "name": "stdout",
     "output_type": "stream",
     "text": [
      "/lus/theta-fs0/projects/RL-fold/atrifan/nsp_gb/Cryo-FFEA/run16/eq.4.4.dcd\n"
     ]
    },
    {
     "name": "stderr",
     "output_type": "stream",
     "text": [
      "\r",
      " 49%|████████████████████████████████████████████████████████████████████████████████▌                                                                                    | 125/256 [1:16:01<1:09:42, 31.92s/it]"
     ]
    },
    {
     "name": "stdout",
     "output_type": "stream",
     "text": [
      "/lus/theta-fs0/projects/RL-fold/atrifan/nsp_gb/Cryo-FFEA/run16/eq.4.5.dcd\n"
     ]
    },
    {
     "name": "stderr",
     "output_type": "stream",
     "text": [
      "\r",
      " 49%|█████████████████████████████████████████████████████████████████████████████████▏                                                                                   | 126/256 [1:16:35<1:10:57, 32.75s/it]"
     ]
    },
    {
     "name": "stdout",
     "output_type": "stream",
     "text": [
      "/lus/theta-fs0/projects/RL-fold/atrifan/nsp_gb/Cryo-FFEA/run16/eq.4.6.dcd\n"
     ]
    },
    {
     "name": "stderr",
     "output_type": "stream",
     "text": [
      "\r",
      " 50%|█████████████████████████████████████████████████████████████████████████████████▊                                                                                   | 127/256 [1:17:09<1:10:47, 32.92s/it]"
     ]
    },
    {
     "name": "stdout",
     "output_type": "stream",
     "text": [
      "/lus/theta-fs0/projects/RL-fold/atrifan/nsp_gb/Cryo-FFEA/run16/eq.4.7.dcd\n"
     ]
    },
    {
     "name": "stderr",
     "output_type": "stream",
     "text": [
      "\r",
      " 50%|██████████████████████████████████████████████████████████████████████████████████▌                                                                                  | 128/256 [1:17:38<1:08:04, 31.91s/it]"
     ]
    },
    {
     "name": "stdout",
     "output_type": "stream",
     "text": [
      "/lus/theta-fs0/projects/RL-fold/atrifan/nsp_gb/Cryo-FFEA/run2/eq.3.0.dcd\n"
     ]
    },
    {
     "name": "stderr",
     "output_type": "stream",
     "text": [
      "\r",
      " 50%|███████████████████████████████████████████████████████████████████████████████████▏                                                                                 | 129/256 [1:18:09<1:06:45, 31.54s/it]"
     ]
    },
    {
     "name": "stdout",
     "output_type": "stream",
     "text": [
      "/lus/theta-fs0/projects/RL-fold/atrifan/nsp_gb/Cryo-FFEA/run2/eq.3.1.dcd\n"
     ]
    },
    {
     "name": "stderr",
     "output_type": "stream",
     "text": [
      "\r",
      " 51%|███████████████████████████████████████████████████████████████████████████████████▊                                                                                 | 130/256 [1:18:48<1:11:03, 33.84s/it]"
     ]
    },
    {
     "name": "stdout",
     "output_type": "stream",
     "text": [
      "/lus/theta-fs0/projects/RL-fold/atrifan/nsp_gb/Cryo-FFEA/run2/eq.3.2.dcd\n"
     ]
    },
    {
     "name": "stderr",
     "output_type": "stream",
     "text": [
      "\r",
      " 51%|████████████████████████████████████████████████████████████████████████████████████▍                                                                                | 131/256 [1:19:20<1:09:09, 33.19s/it]"
     ]
    },
    {
     "name": "stdout",
     "output_type": "stream",
     "text": [
      "/lus/theta-fs0/projects/RL-fold/atrifan/nsp_gb/Cryo-FFEA/run2/eq.3.3.dcd\n"
     ]
    },
    {
     "name": "stderr",
     "output_type": "stream",
     "text": [
      "\r",
      " 52%|█████████████████████████████████████████████████████████████████████████████████████                                                                                | 132/256 [1:19:54<1:09:11, 33.48s/it]"
     ]
    },
    {
     "name": "stdout",
     "output_type": "stream",
     "text": [
      "/lus/theta-fs0/projects/RL-fold/atrifan/nsp_gb/Cryo-FFEA/run2/eq.3.4.dcd\n"
     ]
    },
    {
     "name": "stderr",
     "output_type": "stream",
     "text": [
      "\r",
      " 52%|█████████████████████████████████████████████████████████████████████████████████████▋                                                                               | 133/256 [1:20:31<1:10:51, 34.57s/it]"
     ]
    },
    {
     "name": "stdout",
     "output_type": "stream",
     "text": [
      "/lus/theta-fs0/projects/RL-fold/atrifan/nsp_gb/Cryo-FFEA/run2/eq.3.5.dcd\n"
     ]
    },
    {
     "name": "stderr",
     "output_type": "stream",
     "text": [
      "\r",
      " 52%|██████████████████████████████████████████████████████████████████████████████████████▎                                                                              | 134/256 [1:21:01<1:07:33, 33.23s/it]"
     ]
    },
    {
     "name": "stdout",
     "output_type": "stream",
     "text": [
      "/lus/theta-fs0/projects/RL-fold/atrifan/nsp_gb/Cryo-FFEA/run2/eq.3.6.dcd\n"
     ]
    },
    {
     "name": "stderr",
     "output_type": "stream",
     "text": [
      "\r",
      " 53%|███████████████████████████████████████████████████████████████████████████████████████                                                                              | 135/256 [1:21:36<1:07:40, 33.56s/it]"
     ]
    },
    {
     "name": "stdout",
     "output_type": "stream",
     "text": [
      "/lus/theta-fs0/projects/RL-fold/atrifan/nsp_gb/Cryo-FFEA/run2/eq.3.7.dcd\n"
     ]
    },
    {
     "name": "stderr",
     "output_type": "stream",
     "text": [
      "\r",
      " 53%|███████████████████████████████████████████████████████████████████████████████████████▋                                                                             | 136/256 [1:22:11<1:08:35, 34.29s/it]"
     ]
    },
    {
     "name": "stdout",
     "output_type": "stream",
     "text": [
      "/lus/theta-fs0/projects/RL-fold/atrifan/nsp_gb/Cryo-FFEA/run2/eq.4.0.dcd\n"
     ]
    },
    {
     "name": "stderr",
     "output_type": "stream",
     "text": [
      "\r",
      " 54%|████████████████████████████████████████████████████████████████████████████████████████▎                                                                            | 137/256 [1:22:49<1:09:51, 35.22s/it]"
     ]
    },
    {
     "name": "stdout",
     "output_type": "stream",
     "text": [
      "/lus/theta-fs0/projects/RL-fold/atrifan/nsp_gb/Cryo-FFEA/run2/eq.4.1.dcd\n"
     ]
    },
    {
     "name": "stderr",
     "output_type": "stream",
     "text": [
      "\r",
      " 54%|████████████████████████████████████████████████████████████████████████████████████████▉                                                                            | 138/256 [1:23:19<1:05:58, 33.55s/it]"
     ]
    },
    {
     "name": "stdout",
     "output_type": "stream",
     "text": [
      "/lus/theta-fs0/projects/RL-fold/atrifan/nsp_gb/Cryo-FFEA/run2/eq.4.2.dcd\n"
     ]
    },
    {
     "name": "stderr",
     "output_type": "stream",
     "text": [
      "\r",
      " 54%|█████████████████████████████████████████████████████████████████████████████████████████▌                                                                           | 139/256 [1:23:48<1:03:17, 32.45s/it]"
     ]
    },
    {
     "name": "stdout",
     "output_type": "stream",
     "text": [
      "/lus/theta-fs0/projects/RL-fold/atrifan/nsp_gb/Cryo-FFEA/run2/eq.4.3.dcd\n"
     ]
    },
    {
     "name": "stderr",
     "output_type": "stream",
     "text": [
      "\r",
      " 55%|██████████████████████████████████████████████████████████████████████████████████████████▏                                                                          | 140/256 [1:24:18<1:01:08, 31.63s/it]"
     ]
    },
    {
     "name": "stdout",
     "output_type": "stream",
     "text": [
      "/lus/theta-fs0/projects/RL-fold/atrifan/nsp_gb/Cryo-FFEA/run2/eq.4.4.dcd\n"
     ]
    },
    {
     "name": "stderr",
     "output_type": "stream",
     "text": [
      "\r",
      " 55%|██████████████████████████████████████████████████████████████████████████████████████████▉                                                                          | 141/256 [1:24:59<1:05:59, 34.43s/it]"
     ]
    },
    {
     "name": "stdout",
     "output_type": "stream",
     "text": [
      "/lus/theta-fs0/projects/RL-fold/atrifan/nsp_gb/Cryo-FFEA/run2/eq.4.5.dcd\n"
     ]
    },
    {
     "name": "stderr",
     "output_type": "stream",
     "text": [
      "\r",
      " 55%|███████████████████████████████████████████████████████████████████████████████████████████▌                                                                         | 142/256 [1:25:28<1:02:11, 32.74s/it]"
     ]
    },
    {
     "name": "stdout",
     "output_type": "stream",
     "text": [
      "/lus/theta-fs0/projects/RL-fold/atrifan/nsp_gb/Cryo-FFEA/run2/eq.4.6.dcd\n"
     ]
    },
    {
     "name": "stderr",
     "output_type": "stream",
     "text": [
      "\r",
      " 56%|█████████████████████████████████████████████████████████████████████████████████████████████▎                                                                         | 143/256 [1:25:56<58:51, 31.25s/it]"
     ]
    },
    {
     "name": "stdout",
     "output_type": "stream",
     "text": [
      "/lus/theta-fs0/projects/RL-fold/atrifan/nsp_gb/Cryo-FFEA/run2/eq.4.7.dcd\n"
     ]
    },
    {
     "name": "stderr",
     "output_type": "stream",
     "text": [
      "\r",
      " 56%|█████████████████████████████████████████████████████████████████████████████████████████████▉                                                                         | 144/256 [1:26:27<58:11, 31.17s/it]"
     ]
    },
    {
     "name": "stdout",
     "output_type": "stream",
     "text": [
      "/lus/theta-fs0/projects/RL-fold/atrifan/nsp_gb/Cryo-FFEA/run3/eq.3.0.dcd\n"
     ]
    },
    {
     "name": "stderr",
     "output_type": "stream",
     "text": [
      "\r",
      " 57%|██████████████████████████████████████████████████████████████████████████████████████████████▌                                                                        | 145/256 [1:26:54<55:45, 30.14s/it]"
     ]
    },
    {
     "name": "stdout",
     "output_type": "stream",
     "text": [
      "/lus/theta-fs0/projects/RL-fold/atrifan/nsp_gb/Cryo-FFEA/run3/eq.3.1.dcd\n"
     ]
    },
    {
     "name": "stderr",
     "output_type": "stream",
     "text": [
      "\r",
      " 57%|███████████████████████████████████████████████████████████████████████████████████████████████▏                                                                       | 146/256 [1:27:25<55:29, 30.27s/it]"
     ]
    },
    {
     "name": "stdout",
     "output_type": "stream",
     "text": [
      "/lus/theta-fs0/projects/RL-fold/atrifan/nsp_gb/Cryo-FFEA/run3/eq.3.2.dcd\n"
     ]
    },
    {
     "name": "stderr",
     "output_type": "stream",
     "text": [
      "\r",
      " 57%|███████████████████████████████████████████████████████████████████████████████████████████████▉                                                                       | 147/256 [1:27:56<55:38, 30.63s/it]"
     ]
    },
    {
     "name": "stdout",
     "output_type": "stream",
     "text": [
      "/lus/theta-fs0/projects/RL-fold/atrifan/nsp_gb/Cryo-FFEA/run3/eq.3.3.dcd\n"
     ]
    },
    {
     "name": "stderr",
     "output_type": "stream",
     "text": [
      "\r",
      " 58%|████████████████████████████████████████████████████████████████████████████████████████████████▌                                                                      | 148/256 [1:28:31<57:11, 31.78s/it]"
     ]
    },
    {
     "name": "stdout",
     "output_type": "stream",
     "text": [
      "/lus/theta-fs0/projects/RL-fold/atrifan/nsp_gb/Cryo-FFEA/run3/eq.3.4.dcd\n"
     ]
    },
    {
     "name": "stderr",
     "output_type": "stream",
     "text": [
      "\r",
      " 58%|█████████████████████████████████████████████████████████████████████████████████████████████████▏                                                                     | 149/256 [1:29:06<58:20, 32.71s/it]"
     ]
    },
    {
     "name": "stdout",
     "output_type": "stream",
     "text": [
      "/lus/theta-fs0/projects/RL-fold/atrifan/nsp_gb/Cryo-FFEA/run3/eq.3.5.dcd\n"
     ]
    },
    {
     "name": "stderr",
     "output_type": "stream",
     "text": [
      "\r",
      " 59%|████████████████████████████████████████████████████████████████████████████████████████████████▋                                                                    | 150/256 [1:29:44<1:00:49, 34.43s/it]"
     ]
    },
    {
     "name": "stdout",
     "output_type": "stream",
     "text": [
      "/lus/theta-fs0/projects/RL-fold/atrifan/nsp_gb/Cryo-FFEA/run3/eq.3.6.dcd\n"
     ]
    },
    {
     "name": "stderr",
     "output_type": "stream",
     "text": [
      "\r",
      " 59%|█████████████████████████████████████████████████████████████████████████████████████████████████▎                                                                   | 151/256 [1:30:20<1:01:07, 34.93s/it]"
     ]
    },
    {
     "name": "stdout",
     "output_type": "stream",
     "text": [
      "/lus/theta-fs0/projects/RL-fold/atrifan/nsp_gb/Cryo-FFEA/run3/eq.3.7.dcd\n"
     ]
    },
    {
     "name": "stderr",
     "output_type": "stream",
     "text": [
      "\r",
      " 59%|█████████████████████████████████████████████████████████████████████████████████████████████████▉                                                                   | 152/256 [1:30:55<1:00:29, 34.90s/it]"
     ]
    },
    {
     "name": "stdout",
     "output_type": "stream",
     "text": [
      "/lus/theta-fs0/projects/RL-fold/atrifan/nsp_gb/Cryo-FFEA/run3/eq.4.0.dcd\n"
     ]
    },
    {
     "name": "stderr",
     "output_type": "stream",
     "text": [
      "\r",
      " 60%|██████████████████████████████████████████████████████████████████████████████████████████████████▌                                                                  | 153/256 [1:31:35<1:02:29, 36.40s/it]"
     ]
    },
    {
     "name": "stdout",
     "output_type": "stream",
     "text": [
      "/lus/theta-fs0/projects/RL-fold/atrifan/nsp_gb/Cryo-FFEA/run3/eq.4.1.dcd\n"
     ]
    },
    {
     "name": "stderr",
     "output_type": "stream",
     "text": [
      "\r",
      " 60%|███████████████████████████████████████████████████████████████████████████████████████████████████▎                                                                 | 154/256 [1:32:10<1:01:05, 35.94s/it]"
     ]
    },
    {
     "name": "stdout",
     "output_type": "stream",
     "text": [
      "/lus/theta-fs0/projects/RL-fold/atrifan/nsp_gb/Cryo-FFEA/run3/eq.4.2.dcd\n"
     ]
    },
    {
     "name": "stderr",
     "output_type": "stream",
     "text": [
      "\r",
      " 61%|█████████████████████████████████████████████████████████████████████████████████████████████████████                                                                  | 155/256 [1:32:45<59:54, 35.58s/it]"
     ]
    },
    {
     "name": "stdout",
     "output_type": "stream",
     "text": [
      "/lus/theta-fs0/projects/RL-fold/atrifan/nsp_gb/Cryo-FFEA/run3/eq.4.3.dcd\n"
     ]
    },
    {
     "name": "stderr",
     "output_type": "stream",
     "text": [
      "\r",
      " 61%|█████████████████████████████████████████████████████████████████████████████████████████████████████▊                                                                 | 156/256 [1:33:15<56:28, 33.88s/it]"
     ]
    },
    {
     "name": "stdout",
     "output_type": "stream",
     "text": [
      "/lus/theta-fs0/projects/RL-fold/atrifan/nsp_gb/Cryo-FFEA/run3/eq.4.4.dcd\n"
     ]
    },
    {
     "name": "stderr",
     "output_type": "stream",
     "text": [
      "\r",
      " 61%|██████████████████████████████████████████████████████████████████████████████████████████████████████▍                                                                | 157/256 [1:33:43<52:59, 32.12s/it]"
     ]
    },
    {
     "name": "stdout",
     "output_type": "stream",
     "text": [
      "/lus/theta-fs0/projects/RL-fold/atrifan/nsp_gb/Cryo-FFEA/run3/eq.4.5.dcd\n"
     ]
    },
    {
     "name": "stderr",
     "output_type": "stream",
     "text": [
      "\r",
      " 62%|███████████████████████████████████████████████████████████████████████████████████████████████████████                                                                | 158/256 [1:34:11<50:48, 31.10s/it]"
     ]
    },
    {
     "name": "stdout",
     "output_type": "stream",
     "text": [
      "/lus/theta-fs0/projects/RL-fold/atrifan/nsp_gb/Cryo-FFEA/run3/eq.4.6.dcd\n"
     ]
    },
    {
     "name": "stderr",
     "output_type": "stream",
     "text": [
      "\r",
      " 62%|███████████████████████████████████████████████████████████████████████████████████████████████████████▋                                                               | 159/256 [1:34:45<51:23, 31.79s/it]"
     ]
    },
    {
     "name": "stdout",
     "output_type": "stream",
     "text": [
      "/lus/theta-fs0/projects/RL-fold/atrifan/nsp_gb/Cryo-FFEA/run3/eq.4.7.dcd\n"
     ]
    },
    {
     "name": "stderr",
     "output_type": "stream",
     "text": [
      "\r",
      " 62%|████████████████████████████████████████████████████████████████████████████████████████████████████████▍                                                              | 160/256 [1:35:14<49:50, 31.15s/it]"
     ]
    },
    {
     "name": "stdout",
     "output_type": "stream",
     "text": [
      "/lus/theta-fs0/projects/RL-fold/atrifan/nsp_gb/Cryo-FFEA/run4/eq.3.0.dcd\n"
     ]
    },
    {
     "name": "stderr",
     "output_type": "stream",
     "text": [
      "\r",
      " 63%|█████████████████████████████████████████████████████████████████████████████████████████████████████████                                                              | 161/256 [1:35:42<47:35, 30.06s/it]"
     ]
    },
    {
     "name": "stdout",
     "output_type": "stream",
     "text": [
      "/lus/theta-fs0/projects/RL-fold/atrifan/nsp_gb/Cryo-FFEA/run4/eq.3.1.dcd\n"
     ]
    },
    {
     "name": "stderr",
     "output_type": "stream",
     "text": [
      "\r",
      " 63%|█████████████████████████████████████████████████████████████████████████████████████████████████████████▋                                                             | 162/256 [1:36:10<46:19, 29.57s/it]"
     ]
    },
    {
     "name": "stdout",
     "output_type": "stream",
     "text": [
      "/lus/theta-fs0/projects/RL-fold/atrifan/nsp_gb/Cryo-FFEA/run4/eq.3.2.dcd\n"
     ]
    },
    {
     "name": "stderr",
     "output_type": "stream",
     "text": [
      "\r",
      " 64%|██████████████████████████████████████████████████████████████████████████████████████████████████████████▎                                                            | 163/256 [1:36:38<44:56, 28.99s/it]"
     ]
    },
    {
     "name": "stdout",
     "output_type": "stream",
     "text": [
      "/lus/theta-fs0/projects/RL-fold/atrifan/nsp_gb/Cryo-FFEA/run4/eq.3.3.dcd\n"
     ]
    },
    {
     "name": "stderr",
     "output_type": "stream",
     "text": [
      "\r",
      " 64%|██████████████████████████████████████████████████████████████████████████████████████████████████████████▉                                                            | 164/256 [1:37:07<44:17, 28.89s/it]"
     ]
    },
    {
     "name": "stdout",
     "output_type": "stream",
     "text": [
      "/lus/theta-fs0/projects/RL-fold/atrifan/nsp_gb/Cryo-FFEA/run4/eq.3.4.dcd\n"
     ]
    },
    {
     "name": "stderr",
     "output_type": "stream",
     "text": [
      "\r",
      " 64%|███████████████████████████████████████████████████████████████████████████████████████████████████████████▋                                                           | 165/256 [1:37:35<43:46, 28.86s/it]"
     ]
    },
    {
     "name": "stdout",
     "output_type": "stream",
     "text": [
      "/lus/theta-fs0/projects/RL-fold/atrifan/nsp_gb/Cryo-FFEA/run4/eq.3.5.dcd\n"
     ]
    },
    {
     "name": "stderr",
     "output_type": "stream",
     "text": [
      "\r",
      " 65%|████████████████████████████████████████████████████████████████████████████████████████████████████████████▎                                                          | 166/256 [1:38:04<43:06, 28.73s/it]"
     ]
    },
    {
     "name": "stdout",
     "output_type": "stream",
     "text": [
      "/lus/theta-fs0/projects/RL-fold/atrifan/nsp_gb/Cryo-FFEA/run4/eq.3.6.dcd\n"
     ]
    },
    {
     "name": "stderr",
     "output_type": "stream",
     "text": [
      "\r",
      " 65%|████████████████████████████████████████████████████████████████████████████████████████████████████████████▉                                                          | 167/256 [1:38:32<42:10, 28.44s/it]"
     ]
    },
    {
     "name": "stdout",
     "output_type": "stream",
     "text": [
      "/lus/theta-fs0/projects/RL-fold/atrifan/nsp_gb/Cryo-FFEA/run4/eq.3.7.dcd\n"
     ]
    },
    {
     "name": "stderr",
     "output_type": "stream",
     "text": [
      "\r",
      " 66%|█████████████████████████████████████████████████████████████████████████████████████████████████████████████▌                                                         | 168/256 [1:39:06<44:18, 30.21s/it]"
     ]
    },
    {
     "name": "stdout",
     "output_type": "stream",
     "text": [
      "/lus/theta-fs0/projects/RL-fold/atrifan/nsp_gb/Cryo-FFEA/run4/eq.4.0.dcd\n"
     ]
    },
    {
     "name": "stderr",
     "output_type": "stream",
     "text": [
      "\r",
      " 66%|██████████████████████████████████████████████████████████████████████████████████████████████████████████████▏                                                        | 169/256 [1:39:40<45:24, 31.31s/it]"
     ]
    },
    {
     "name": "stdout",
     "output_type": "stream",
     "text": [
      "/lus/theta-fs0/projects/RL-fold/atrifan/nsp_gb/Cryo-FFEA/run4/eq.4.1.dcd\n"
     ]
    },
    {
     "name": "stderr",
     "output_type": "stream",
     "text": [
      "\r",
      " 66%|██████████████████████████████████████████████████████████████████████████████████████████████████████████████▉                                                        | 170/256 [1:40:10<44:34, 31.10s/it]"
     ]
    },
    {
     "name": "stdout",
     "output_type": "stream",
     "text": [
      "/lus/theta-fs0/projects/RL-fold/atrifan/nsp_gb/Cryo-FFEA/run4/eq.4.2.dcd\n"
     ]
    },
    {
     "name": "stderr",
     "output_type": "stream",
     "text": [
      "\r",
      " 67%|███████████████████████████████████████████████████████████████████████████████████████████████████████████████▌                                                       | 171/256 [1:40:43<44:32, 31.45s/it]"
     ]
    },
    {
     "name": "stdout",
     "output_type": "stream",
     "text": [
      "/lus/theta-fs0/projects/RL-fold/atrifan/nsp_gb/Cryo-FFEA/run4/eq.4.3.dcd\n"
     ]
    },
    {
     "name": "stderr",
     "output_type": "stream",
     "text": [
      "\r",
      " 67%|████████████████████████████████████████████████████████████████████████████████████████████████████████████████▏                                                      | 172/256 [1:41:16<44:52, 32.05s/it]"
     ]
    },
    {
     "name": "stdout",
     "output_type": "stream",
     "text": [
      "/lus/theta-fs0/projects/RL-fold/atrifan/nsp_gb/Cryo-FFEA/run4/eq.4.4.dcd\n"
     ]
    },
    {
     "name": "stderr",
     "output_type": "stream",
     "text": [
      "\r",
      " 68%|████████████████████████████████████████████████████████████████████████████████████████████████████████████████▊                                                      | 173/256 [1:41:50<44:59, 32.53s/it]"
     ]
    },
    {
     "name": "stdout",
     "output_type": "stream",
     "text": [
      "/lus/theta-fs0/projects/RL-fold/atrifan/nsp_gb/Cryo-FFEA/run4/eq.4.5.dcd\n"
     ]
    },
    {
     "name": "stderr",
     "output_type": "stream",
     "text": [
      "\r",
      " 68%|█████████████████████████████████████████████████████████████████████████████████████████████████████████████████▌                                                     | 174/256 [1:42:24<45:06, 33.01s/it]"
     ]
    },
    {
     "name": "stdout",
     "output_type": "stream",
     "text": [
      "/lus/theta-fs0/projects/RL-fold/atrifan/nsp_gb/Cryo-FFEA/run4/eq.4.6.dcd\n"
     ]
    },
    {
     "name": "stderr",
     "output_type": "stream",
     "text": [
      "\r",
      " 68%|██████████████████████████████████████████████████████████████████████████████████████████████████████████████████▏                                                    | 175/256 [1:42:55<43:38, 32.33s/it]"
     ]
    },
    {
     "name": "stdout",
     "output_type": "stream",
     "text": [
      "/lus/theta-fs0/projects/RL-fold/atrifan/nsp_gb/Cryo-FFEA/run4/eq.4.7.dcd\n"
     ]
    },
    {
     "name": "stderr",
     "output_type": "stream",
     "text": [
      "\r",
      " 69%|██████████████████████████████████████████████████████████████████████████████████████████████████████████████████▊                                                    | 176/256 [1:43:24<41:52, 31.40s/it]"
     ]
    },
    {
     "name": "stdout",
     "output_type": "stream",
     "text": [
      "/lus/theta-fs0/projects/RL-fold/atrifan/nsp_gb/Cryo-FFEA/run5/eq.3.0.dcd\n"
     ]
    },
    {
     "name": "stderr",
     "output_type": "stream",
     "text": [
      "\r",
      " 69%|███████████████████████████████████████████████████████████████████████████████████████████████████████████████████▍                                                   | 177/256 [1:44:00<43:04, 32.72s/it]"
     ]
    },
    {
     "name": "stdout",
     "output_type": "stream",
     "text": [
      "/lus/theta-fs0/projects/RL-fold/atrifan/nsp_gb/Cryo-FFEA/run5/eq.3.1.dcd\n"
     ]
    },
    {
     "name": "stderr",
     "output_type": "stream",
     "text": [
      "\r",
      " 70%|████████████████████████████████████████████████████████████████████████████████████████████████████████████████████                                                   | 178/256 [1:44:30<41:40, 32.06s/it]"
     ]
    },
    {
     "name": "stdout",
     "output_type": "stream",
     "text": [
      "/lus/theta-fs0/projects/RL-fold/atrifan/nsp_gb/Cryo-FFEA/run5/eq.3.2.dcd\n"
     ]
    },
    {
     "name": "stderr",
     "output_type": "stream",
     "text": [
      "\r",
      " 70%|████████████████████████████████████████████████████████████████████████████████████████████████████████████████████▊                                                  | 179/256 [1:45:01<40:41, 31.70s/it]"
     ]
    },
    {
     "name": "stdout",
     "output_type": "stream",
     "text": [
      "/lus/theta-fs0/projects/RL-fold/atrifan/nsp_gb/Cryo-FFEA/run5/eq.3.3.dcd\n"
     ]
    },
    {
     "name": "stderr",
     "output_type": "stream",
     "text": [
      "\r",
      " 70%|█████████████████████████████████████████████████████████████████████████████████████████████████████████████████████▍                                                 | 180/256 [1:45:33<40:07, 31.67s/it]"
     ]
    },
    {
     "name": "stdout",
     "output_type": "stream",
     "text": [
      "/lus/theta-fs0/projects/RL-fold/atrifan/nsp_gb/Cryo-FFEA/run5/eq.3.4.dcd\n"
     ]
    },
    {
     "name": "stderr",
     "output_type": "stream",
     "text": [
      "\r",
      " 71%|██████████████████████████████████████████████████████████████████████████████████████████████████████████████████████                                                 | 181/256 [1:46:10<41:43, 33.38s/it]"
     ]
    },
    {
     "name": "stdout",
     "output_type": "stream",
     "text": [
      "/lus/theta-fs0/projects/RL-fold/atrifan/nsp_gb/Cryo-FFEA/run5/eq.3.5.dcd\n"
     ]
    },
    {
     "name": "stderr",
     "output_type": "stream",
     "text": [
      "\r",
      " 71%|██████████████████████████████████████████████████████████████████████████████████████████████████████████████████████▋                                                | 182/256 [1:46:42<40:38, 32.96s/it]"
     ]
    },
    {
     "name": "stdout",
     "output_type": "stream",
     "text": [
      "/lus/theta-fs0/projects/RL-fold/atrifan/nsp_gb/Cryo-FFEA/run5/eq.3.6.dcd\n"
     ]
    },
    {
     "name": "stderr",
     "output_type": "stream",
     "text": [
      "\r",
      " 71%|███████████████████████████████████████████████████████████████████████████████████████████████████████████████████████▍                                               | 183/256 [1:47:22<42:46, 35.16s/it]"
     ]
    },
    {
     "name": "stdout",
     "output_type": "stream",
     "text": [
      "/lus/theta-fs0/projects/RL-fold/atrifan/nsp_gb/Cryo-FFEA/run5/eq.3.7.dcd\n"
     ]
    },
    {
     "name": "stderr",
     "output_type": "stream",
     "text": [
      "\r",
      " 72%|████████████████████████████████████████████████████████████████████████████████████████████████████████████████████████                                               | 184/256 [1:47:53<40:43, 33.94s/it]"
     ]
    },
    {
     "name": "stdout",
     "output_type": "stream",
     "text": [
      "/lus/theta-fs0/projects/RL-fold/atrifan/nsp_gb/Cryo-FFEA/run5/eq.4.0.dcd\n"
     ]
    },
    {
     "name": "stderr",
     "output_type": "stream",
     "text": [
      "\r",
      " 72%|████████████████████████████████████████████████████████████████████████████████████████████████████████████████████████▋                                              | 185/256 [1:48:23<38:42, 32.72s/it]"
     ]
    },
    {
     "name": "stdout",
     "output_type": "stream",
     "text": [
      "/lus/theta-fs0/projects/RL-fold/atrifan/nsp_gb/Cryo-FFEA/run5/eq.4.1.dcd\n"
     ]
    },
    {
     "name": "stderr",
     "output_type": "stream",
     "text": [
      "\r",
      " 73%|█████████████████████████████████████████████████████████████████████████████████████████████████████████████████████████▎                                             | 186/256 [1:48:51<36:33, 31.34s/it]"
     ]
    },
    {
     "name": "stdout",
     "output_type": "stream",
     "text": [
      "/lus/theta-fs0/projects/RL-fold/atrifan/nsp_gb/Cryo-FFEA/run5/eq.4.2.dcd\n"
     ]
    },
    {
     "name": "stderr",
     "output_type": "stream",
     "text": [
      "\r",
      " 73%|█████████████████████████████████████████████████████████████████████████████████████████████████████████████████████████▉                                             | 187/256 [1:49:23<36:00, 31.31s/it]"
     ]
    },
    {
     "name": "stdout",
     "output_type": "stream",
     "text": [
      "/lus/theta-fs0/projects/RL-fold/atrifan/nsp_gb/Cryo-FFEA/run5/eq.4.3.dcd\n"
     ]
    },
    {
     "name": "stderr",
     "output_type": "stream",
     "text": [
      "\r",
      " 73%|██████████████████████████████████████████████████████████████████████████████████████████████████████████████████████████▋                                            | 188/256 [1:50:01<37:51, 33.41s/it]"
     ]
    },
    {
     "name": "stdout",
     "output_type": "stream",
     "text": [
      "/lus/theta-fs0/projects/RL-fold/atrifan/nsp_gb/Cryo-FFEA/run5/eq.4.4.dcd\n"
     ]
    },
    {
     "name": "stderr",
     "output_type": "stream",
     "text": [
      "\r",
      " 74%|███████████████████████████████████████████████████████████████████████████████████████████████████████████████████████████▎                                           | 189/256 [1:50:41<39:31, 35.40s/it]"
     ]
    },
    {
     "name": "stdout",
     "output_type": "stream",
     "text": [
      "/lus/theta-fs0/projects/RL-fold/atrifan/nsp_gb/Cryo-FFEA/run5/eq.4.5.dcd\n"
     ]
    },
    {
     "name": "stderr",
     "output_type": "stream",
     "text": [
      "\r",
      " 74%|███████████████████████████████████████████████████████████████████████████████████████████████████████████████████████████▉                                           | 190/256 [1:51:16<38:42, 35.19s/it]"
     ]
    },
    {
     "name": "stdout",
     "output_type": "stream",
     "text": [
      "/lus/theta-fs0/projects/RL-fold/atrifan/nsp_gb/Cryo-FFEA/run5/eq.4.6.dcd\n"
     ]
    },
    {
     "name": "stderr",
     "output_type": "stream",
     "text": [
      "\r",
      " 75%|████████████████████████████████████████████████████████████████████████████████████████████████████████████████████████████▌                                          | 191/256 [1:51:57<40:13, 37.13s/it]"
     ]
    },
    {
     "name": "stdout",
     "output_type": "stream",
     "text": [
      "/lus/theta-fs0/projects/RL-fold/atrifan/nsp_gb/Cryo-FFEA/run5/eq.4.7.dcd\n"
     ]
    },
    {
     "name": "stderr",
     "output_type": "stream",
     "text": [
      "\r",
      " 75%|█████████████████████████████████████████████████████████████████████████████████████████████████████████████████████████████▎                                         | 192/256 [1:52:29<37:45, 35.40s/it]"
     ]
    },
    {
     "name": "stdout",
     "output_type": "stream",
     "text": [
      "/lus/theta-fs0/projects/RL-fold/atrifan/nsp_gb/Cryo-FFEA/run6/eq.3.0.dcd\n"
     ]
    },
    {
     "name": "stderr",
     "output_type": "stream",
     "text": [
      "\r",
      " 75%|█████████████████████████████████████████████████████████████████████████████████████████████████████████████████████████████▉                                         | 193/256 [1:53:06<37:44, 35.95s/it]"
     ]
    },
    {
     "name": "stdout",
     "output_type": "stream",
     "text": [
      "/lus/theta-fs0/projects/RL-fold/atrifan/nsp_gb/Cryo-FFEA/run6/eq.3.1.dcd\n"
     ]
    },
    {
     "name": "stderr",
     "output_type": "stream",
     "text": [
      "\r",
      " 76%|██████████████████████████████████████████████████████████████████████████████████████████████████████████████████████████████▌                                        | 194/256 [1:53:41<36:45, 35.58s/it]"
     ]
    },
    {
     "name": "stdout",
     "output_type": "stream",
     "text": [
      "/lus/theta-fs0/projects/RL-fold/atrifan/nsp_gb/Cryo-FFEA/run6/eq.3.2.dcd\n"
     ]
    },
    {
     "name": "stderr",
     "output_type": "stream",
     "text": [
      "\r",
      " 76%|███████████████████████████████████████████████████████████████████████████████████████████████████████████████████████████████▏                                       | 195/256 [1:54:11<34:41, 34.12s/it]"
     ]
    },
    {
     "name": "stdout",
     "output_type": "stream",
     "text": [
      "/lus/theta-fs0/projects/RL-fold/atrifan/nsp_gb/Cryo-FFEA/run6/eq.3.3.dcd\n"
     ]
    },
    {
     "name": "stderr",
     "output_type": "stream",
     "text": [
      "\r",
      " 77%|███████████████████████████████████████████████████████████████████████████████████████████████████████████████████████████████▊                                       | 196/256 [1:54:47<34:33, 34.56s/it]"
     ]
    },
    {
     "name": "stdout",
     "output_type": "stream",
     "text": [
      "/lus/theta-fs0/projects/RL-fold/atrifan/nsp_gb/Cryo-FFEA/run6/eq.3.4.dcd\n"
     ]
    },
    {
     "name": "stderr",
     "output_type": "stream",
     "text": [
      "\r",
      " 77%|████████████████████████████████████████████████████████████████████████████████████████████████████████████████████████████████▌                                      | 197/256 [1:55:21<33:52, 34.45s/it]"
     ]
    },
    {
     "name": "stdout",
     "output_type": "stream",
     "text": [
      "/lus/theta-fs0/projects/RL-fold/atrifan/nsp_gb/Cryo-FFEA/run6/eq.3.5.dcd\n"
     ]
    },
    {
     "name": "stderr",
     "output_type": "stream",
     "text": [
      "\r",
      " 77%|█████████████████████████████████████████████████████████████████████████████████████████████████████████████████████████████████▏                                     | 198/256 [1:55:58<33:52, 35.05s/it]"
     ]
    },
    {
     "name": "stdout",
     "output_type": "stream",
     "text": [
      "/lus/theta-fs0/projects/RL-fold/atrifan/nsp_gb/Cryo-FFEA/run6/eq.3.6.dcd\n"
     ]
    },
    {
     "name": "stderr",
     "output_type": "stream",
     "text": [
      "\r",
      " 78%|█████████████████████████████████████████████████████████████████████████████████████████████████████████████████████████████████▊                                     | 199/256 [1:56:34<33:42, 35.48s/it]"
     ]
    },
    {
     "name": "stdout",
     "output_type": "stream",
     "text": [
      "/lus/theta-fs0/projects/RL-fold/atrifan/nsp_gb/Cryo-FFEA/run6/eq.3.7.dcd\n"
     ]
    },
    {
     "name": "stderr",
     "output_type": "stream",
     "text": [
      "\r",
      " 78%|██████████████████████████████████████████████████████████████████████████████████████████████████████████████████████████████████▍                                    | 200/256 [1:57:11<33:31, 35.92s/it]"
     ]
    },
    {
     "name": "stdout",
     "output_type": "stream",
     "text": [
      "/lus/theta-fs0/projects/RL-fold/atrifan/nsp_gb/Cryo-FFEA/run6/eq.4.0.dcd\n"
     ]
    },
    {
     "name": "stderr",
     "output_type": "stream",
     "text": [
      "\r",
      " 79%|███████████████████████████████████████████████████████████████████████████████████████████████████████████████████████████████████                                    | 201/256 [1:57:41<31:23, 34.24s/it]"
     ]
    },
    {
     "name": "stdout",
     "output_type": "stream",
     "text": [
      "/lus/theta-fs0/projects/RL-fold/atrifan/nsp_gb/Cryo-FFEA/run6/eq.4.1.dcd\n"
     ]
    },
    {
     "name": "stderr",
     "output_type": "stream",
     "text": [
      "\r",
      " 79%|███████████████████████████████████████████████████████████████████████████████████████████████████████████████████████████████████▊                                   | 202/256 [1:58:20<32:04, 35.64s/it]"
     ]
    },
    {
     "name": "stdout",
     "output_type": "stream",
     "text": [
      "/lus/theta-fs0/projects/RL-fold/atrifan/nsp_gb/Cryo-FFEA/run6/eq.4.2.dcd\n"
     ]
    },
    {
     "name": "stderr",
     "output_type": "stream",
     "text": [
      "\r",
      " 79%|████████████████████████████████████████████████████████████████████████████████████████████████████████████████████████████████████▍                                  | 203/256 [1:58:54<30:53, 34.97s/it]"
     ]
    },
    {
     "name": "stdout",
     "output_type": "stream",
     "text": [
      "/lus/theta-fs0/projects/RL-fold/atrifan/nsp_gb/Cryo-FFEA/run6/eq.4.3.dcd\n"
     ]
    },
    {
     "name": "stderr",
     "output_type": "stream",
     "text": [
      "\r",
      " 80%|█████████████████████████████████████████████████████████████████████████████████████████████████████████████████████████████████████                                  | 204/256 [1:59:35<31:55, 36.84s/it]"
     ]
    },
    {
     "name": "stdout",
     "output_type": "stream",
     "text": [
      "/lus/theta-fs0/projects/RL-fold/atrifan/nsp_gb/Cryo-FFEA/run6/eq.4.4.dcd\n"
     ]
    },
    {
     "name": "stderr",
     "output_type": "stream",
     "text": [
      "\r",
      " 80%|█████████████████████████████████████████████████████████████████████████████████████████████████████████████████████████████████████▋                                 | 205/256 [2:00:04<29:20, 34.52s/it]"
     ]
    },
    {
     "name": "stdout",
     "output_type": "stream",
     "text": [
      "/lus/theta-fs0/projects/RL-fold/atrifan/nsp_gb/Cryo-FFEA/run6/eq.4.5.dcd\n"
     ]
    },
    {
     "name": "stderr",
     "output_type": "stream",
     "text": [
      "\r",
      " 80%|██████████████████████████████████████████████████████████████████████████████████████████████████████████████████████████████████████▍                                | 206/256 [2:00:37<28:22, 34.06s/it]"
     ]
    },
    {
     "name": "stdout",
     "output_type": "stream",
     "text": [
      "/lus/theta-fs0/projects/RL-fold/atrifan/nsp_gb/Cryo-FFEA/run6/eq.4.6.dcd\n"
     ]
    },
    {
     "name": "stderr",
     "output_type": "stream",
     "text": [
      "\r",
      " 81%|███████████████████████████████████████████████████████████████████████████████████████████████████████████████████████████████████████                                | 207/256 [2:01:38<34:23, 42.12s/it]"
     ]
    },
    {
     "name": "stdout",
     "output_type": "stream",
     "text": [
      "/lus/theta-fs0/projects/RL-fold/atrifan/nsp_gb/Cryo-FFEA/run6/eq.4.7.dcd\n"
     ]
    },
    {
     "name": "stderr",
     "output_type": "stream",
     "text": [
      "\r",
      " 81%|███████████████████████████████████████████████████████████████████████████████████████████████████████████████████████████████████████▋                               | 208/256 [2:02:45<39:46, 49.71s/it]"
     ]
    },
    {
     "name": "stdout",
     "output_type": "stream",
     "text": [
      "/lus/theta-fs0/projects/RL-fold/atrifan/nsp_gb/Cryo-FFEA/run7/eq.3.0.dcd\n"
     ]
    },
    {
     "name": "stderr",
     "output_type": "stream",
     "text": [
      "\r",
      " 82%|████████████████████████████████████████████████████████████████████████████████████████████████████████████████████████████████████████▎                              | 209/256 [2:03:54<43:30, 55.55s/it]"
     ]
    },
    {
     "name": "stdout",
     "output_type": "stream",
     "text": [
      "/lus/theta-fs0/projects/RL-fold/atrifan/nsp_gb/Cryo-FFEA/run7/eq.3.1.dcd\n"
     ]
    },
    {
     "name": "stderr",
     "output_type": "stream",
     "text": [
      "\r",
      " 82%|████████████████████████████████████████████████████████████████████████████████████████████████████████████████████████████████████████▉                              | 210/256 [2:04:26<37:04, 48.35s/it]"
     ]
    },
    {
     "name": "stdout",
     "output_type": "stream",
     "text": [
      "/lus/theta-fs0/projects/RL-fold/atrifan/nsp_gb/Cryo-FFEA/run7/eq.3.2.dcd\n"
     ]
    },
    {
     "name": "stderr",
     "output_type": "stream",
     "text": [
      "\r",
      " 82%|█████████████████████████████████████████████████████████████████████████████████████████████████████████████████████████████████████████▋                             | 211/256 [2:04:58<32:40, 43.57s/it]"
     ]
    },
    {
     "name": "stdout",
     "output_type": "stream",
     "text": [
      "/lus/theta-fs0/projects/RL-fold/atrifan/nsp_gb/Cryo-FFEA/run7/eq.3.3.dcd\n"
     ]
    },
    {
     "name": "stderr",
     "output_type": "stream",
     "text": [
      "\r",
      " 83%|██████████████████████████████████████████████████████████████████████████████████████████████████████████████████████████████████████████▎                            | 212/256 [2:05:29<29:01, 39.58s/it]"
     ]
    },
    {
     "name": "stdout",
     "output_type": "stream",
     "text": [
      "/lus/theta-fs0/projects/RL-fold/atrifan/nsp_gb/Cryo-FFEA/run7/eq.3.4.dcd\n"
     ]
    },
    {
     "name": "stderr",
     "output_type": "stream",
     "text": [
      "\r",
      " 83%|██████████████████████████████████████████████████████████████████████████████████████████████████████████████████████████████████████████▉                            | 213/256 [2:05:59<26:20, 36.76s/it]"
     ]
    },
    {
     "name": "stdout",
     "output_type": "stream",
     "text": [
      "/lus/theta-fs0/projects/RL-fold/atrifan/nsp_gb/Cryo-FFEA/run7/eq.3.5.dcd\n"
     ]
    },
    {
     "name": "stderr",
     "output_type": "stream",
     "text": [
      "\r",
      " 84%|███████████████████████████████████████████████████████████████████████████████████████████████████████████████████████████████████████████▌                           | 214/256 [2:07:34<37:54, 54.14s/it]"
     ]
    },
    {
     "name": "stdout",
     "output_type": "stream",
     "text": [
      "/lus/theta-fs0/projects/RL-fold/atrifan/nsp_gb/Cryo-FFEA/run7/eq.3.6.dcd\n"
     ]
    },
    {
     "name": "stderr",
     "output_type": "stream",
     "text": [
      "\r",
      " 84%|████████████████████████████████████████████████████████████████████████████████████████████████████████████████████████████████████████████▎                          | 215/256 [2:08:17<34:48, 50.94s/it]"
     ]
    },
    {
     "name": "stdout",
     "output_type": "stream",
     "text": [
      "/lus/theta-fs0/projects/RL-fold/atrifan/nsp_gb/Cryo-FFEA/run7/eq.3.7.dcd\n"
     ]
    },
    {
     "name": "stderr",
     "output_type": "stream",
     "text": [
      "\r",
      " 84%|████████████████████████████████████████████████████████████████████████████████████████████████████████████████████████████████████████████▉                          | 216/256 [2:10:38<51:56, 77.91s/it]"
     ]
    },
    {
     "name": "stdout",
     "output_type": "stream",
     "text": [
      "/lus/theta-fs0/projects/RL-fold/atrifan/nsp_gb/Cryo-FFEA/run7/eq.4.0.dcd\n"
     ]
    },
    {
     "name": "stderr",
     "output_type": "stream",
     "text": [
      "\r",
      " 85%|███████████████████████████████████████████████████████████████████████████████████████████████████████████████████████████████████████████                         | 217/256 [2:13:56<1:14:03, 113.94s/it]"
     ]
    },
    {
     "name": "stdout",
     "output_type": "stream",
     "text": [
      "/lus/theta-fs0/projects/RL-fold/atrifan/nsp_gb/Cryo-FFEA/run7/eq.4.1.dcd\n"
     ]
    },
    {
     "name": "stderr",
     "output_type": "stream",
     "text": [
      "\r",
      " 85%|███████████████████████████████████████████████████████████████████████████████████████████████████████████████████████████████████████████▋                        | 218/256 [2:16:37<1:21:03, 128.00s/it]"
     ]
    },
    {
     "name": "stdout",
     "output_type": "stream",
     "text": [
      "/lus/theta-fs0/projects/RL-fold/atrifan/nsp_gb/Cryo-FFEA/run7/eq.4.2.dcd\n"
     ]
    },
    {
     "name": "stderr",
     "output_type": "stream",
     "text": [
      "\r",
      " 86%|████████████████████████████████████████████████████████████████████████████████████████████████████████████████████████████████████████████▎                       | 219/256 [2:18:50<1:19:55, 129.62s/it]"
     ]
    },
    {
     "name": "stdout",
     "output_type": "stream",
     "text": [
      "/lus/theta-fs0/projects/RL-fold/atrifan/nsp_gb/Cryo-FFEA/run7/eq.4.3.dcd\n"
     ]
    },
    {
     "name": "stderr",
     "output_type": "stream",
     "text": [
      "\r",
      " 86%|████████████████████████████████████████████████████████████████████████████████████████████████████████████████████████████████████████████▉                       | 220/256 [2:20:42<1:14:32, 124.24s/it]"
     ]
    },
    {
     "name": "stdout",
     "output_type": "stream",
     "text": [
      "/lus/theta-fs0/projects/RL-fold/atrifan/nsp_gb/Cryo-FFEA/run7/eq.4.4.dcd\n"
     ]
    },
    {
     "name": "stderr",
     "output_type": "stream",
     "text": [
      "\r",
      " 86%|█████████████████████████████████████████████████████████████████████████████████████████████████████████████████████████████████████████████▌                      | 221/256 [2:24:05<1:26:16, 147.89s/it]"
     ]
    },
    {
     "name": "stdout",
     "output_type": "stream",
     "text": [
      "/lus/theta-fs0/projects/RL-fold/atrifan/nsp_gb/Cryo-FFEA/run7/eq.4.5.dcd\n"
     ]
    },
    {
     "name": "stderr",
     "output_type": "stream",
     "text": [
      "\r",
      " 87%|██████████████████████████████████████████████████████████████████████████████████████████████████████████████████████████████████████████████▏                     | 222/256 [2:27:01<1:28:36, 156.36s/it]"
     ]
    },
    {
     "name": "stdout",
     "output_type": "stream",
     "text": [
      "/lus/theta-fs0/projects/RL-fold/atrifan/nsp_gb/Cryo-FFEA/run7/eq.4.6.dcd\n"
     ]
    },
    {
     "name": "stderr",
     "output_type": "stream",
     "text": [
      "\r",
      " 87%|██████████████████████████████████████████████████████████████████████████████████████████████████████████████████████████████████████████████▊                     | 223/256 [2:29:24<1:23:45, 152.28s/it]"
     ]
    },
    {
     "name": "stdout",
     "output_type": "stream",
     "text": [
      "/lus/theta-fs0/projects/RL-fold/atrifan/nsp_gb/Cryo-FFEA/run7/eq.4.7.dcd\n"
     ]
    },
    {
     "name": "stderr",
     "output_type": "stream",
     "text": [
      "\r",
      " 88%|███████████████████████████████████████████████████████████████████████████████████████████████████████████████████████████████████████████████▌                    | 224/256 [2:33:11<1:33:08, 174.64s/it]"
     ]
    },
    {
     "name": "stdout",
     "output_type": "stream",
     "text": [
      "/lus/theta-fs0/projects/RL-fold/atrifan/nsp_gb/Cryo-FFEA/run8/eq.3.0.dcd\n"
     ]
    },
    {
     "name": "stderr",
     "output_type": "stream",
     "text": [
      "\r",
      " 88%|████████████████████████████████████████████████████████████████████████████████████████████████████████████████████████████████████████████████▏                   | 225/256 [2:39:37<2:03:04, 238.22s/it]"
     ]
    },
    {
     "name": "stdout",
     "output_type": "stream",
     "text": [
      "/lus/theta-fs0/projects/RL-fold/atrifan/nsp_gb/Cryo-FFEA/run8/eq.3.1.dcd\n"
     ]
    },
    {
     "name": "stderr",
     "output_type": "stream",
     "text": [
      "\r",
      " 88%|████████████████████████████████████████████████████████████████████████████████████████████████████████████████████████████████████████████████▊                   | 226/256 [2:42:38<1:50:28, 220.94s/it]"
     ]
    },
    {
     "name": "stdout",
     "output_type": "stream",
     "text": [
      "/lus/theta-fs0/projects/RL-fold/atrifan/nsp_gb/Cryo-FFEA/run8/eq.3.2.dcd\n"
     ]
    },
    {
     "name": "stderr",
     "output_type": "stream",
     "text": [
      "\r",
      " 89%|█████████████████████████████████████████████████████████████████████████████████████████████████████████████████████████████████████████████████▍                  | 227/256 [2:44:17<1:29:09, 184.46s/it]"
     ]
    },
    {
     "name": "stdout",
     "output_type": "stream",
     "text": [
      "/lus/theta-fs0/projects/RL-fold/atrifan/nsp_gb/Cryo-FFEA/run8/eq.3.3.dcd\n"
     ]
    },
    {
     "name": "stderr",
     "output_type": "stream",
     "text": [
      "\r",
      " 89%|██████████████████████████████████████████████████████████████████████████████████████████████████████████████████████████████████████████████████                  | 228/256 [2:46:33<1:19:16, 169.87s/it]"
     ]
    },
    {
     "name": "stdout",
     "output_type": "stream",
     "text": [
      "/lus/theta-fs0/projects/RL-fold/atrifan/nsp_gb/Cryo-FFEA/run8/eq.3.4.dcd\n"
     ]
    },
    {
     "name": "stderr",
     "output_type": "stream",
     "text": [
      "\r",
      " 89%|██████████████████████████████████████████████████████████████████████████████████████████████████████████████████████████████████████████████████▋                 | 229/256 [2:48:53<1:12:27, 161.02s/it]"
     ]
    },
    {
     "name": "stdout",
     "output_type": "stream",
     "text": [
      "/lus/theta-fs0/projects/RL-fold/atrifan/nsp_gb/Cryo-FFEA/run8/eq.3.5.dcd\n"
     ]
    },
    {
     "name": "stderr",
     "output_type": "stream",
     "text": [
      "\r",
      " 90%|███████████████████████████████████████████████████████████████████████████████████████████████████████████████████████████████████████████████████▎                | 230/256 [2:50:35<1:02:06, 143.33s/it]"
     ]
    },
    {
     "name": "stdout",
     "output_type": "stream",
     "text": [
      "/lus/theta-fs0/projects/RL-fold/atrifan/nsp_gb/Cryo-FFEA/run8/eq.3.6.dcd\n"
     ]
    },
    {
     "name": "stderr",
     "output_type": "stream",
     "text": [
      "\r",
      " 90%|█████████████████████████████████████████████████████████████████████████████████████████████████████████████████████████████████████████████████████▊                | 231/256 [2:52:07<53:16, 127.85s/it]"
     ]
    },
    {
     "name": "stdout",
     "output_type": "stream",
     "text": [
      "/lus/theta-fs0/projects/RL-fold/atrifan/nsp_gb/Cryo-FFEA/run8/eq.3.7.dcd\n"
     ]
    },
    {
     "name": "stderr",
     "output_type": "stream",
     "text": [
      "\r",
      " 91%|██████████████████████████████████████████████████████████████████████████████████████████████████████████████████████████████████████████████████████▍               | 232/256 [2:54:40<54:12, 135.51s/it]"
     ]
    },
    {
     "name": "stdout",
     "output_type": "stream",
     "text": [
      "/lus/theta-fs0/projects/RL-fold/atrifan/nsp_gb/Cryo-FFEA/run8/eq.4.0.dcd\n"
     ]
    },
    {
     "name": "stderr",
     "output_type": "stream",
     "text": [
      "\r",
      " 91%|█████████████████████████████████████████████████████████████████████████████████████████████████████████████████████████████████████████████████████▎              | 233/256 [2:58:39<1:03:47, 166.40s/it]"
     ]
    },
    {
     "name": "stdout",
     "output_type": "stream",
     "text": [
      "/lus/theta-fs0/projects/RL-fold/atrifan/nsp_gb/Cryo-FFEA/run8/eq.4.1.dcd\n"
     ]
    },
    {
     "name": "stderr",
     "output_type": "stream",
     "text": [
      "\r",
      " 91%|█████████████████████████████████████████████████████████████████████████████████████████████████████████████████████████████████████████████████████▉              | 234/256 [3:03:17<1:13:20, 200.01s/it]"
     ]
    },
    {
     "name": "stdout",
     "output_type": "stream",
     "text": [
      "/lus/theta-fs0/projects/RL-fold/atrifan/nsp_gb/Cryo-FFEA/run8/eq.4.2.dcd\n"
     ]
    },
    {
     "name": "stderr",
     "output_type": "stream",
     "text": [
      "\r",
      " 92%|██████████████████████████████████████████████████████████████████████████████████████████████████████████████████████████████████████████████████████▌             | 235/256 [3:05:50<1:05:03, 185.89s/it]"
     ]
    },
    {
     "name": "stdout",
     "output_type": "stream",
     "text": [
      "/lus/theta-fs0/projects/RL-fold/atrifan/nsp_gb/Cryo-FFEA/run8/eq.4.3.dcd\n"
     ]
    },
    {
     "name": "stderr",
     "output_type": "stream",
     "text": [
      "\r",
      " 92%|█████████████████████████████████████████████████████████████████████████████████████████████████████████████████████████████████████████████████████████             | 236/256 [3:07:59<56:12, 168.63s/it]"
     ]
    },
    {
     "name": "stdout",
     "output_type": "stream",
     "text": [
      "/lus/theta-fs0/projects/RL-fold/atrifan/nsp_gb/Cryo-FFEA/run8/eq.4.4.dcd\n"
     ]
    },
    {
     "name": "stderr",
     "output_type": "stream",
     "text": [
      "\r",
      " 93%|█████████████████████████████████████████████████████████████████████████████████████████████████████████████████████████████████████████████████████████▋            | 237/256 [3:10:39<52:33, 166.00s/it]"
     ]
    },
    {
     "name": "stdout",
     "output_type": "stream",
     "text": [
      "/lus/theta-fs0/projects/RL-fold/atrifan/nsp_gb/Cryo-FFEA/run8/eq.4.5.dcd\n"
     ]
    },
    {
     "name": "stderr",
     "output_type": "stream",
     "text": [
      "\r",
      " 93%|██████████████████████████████████████████████████████████████████████████████████████████████████████████████████████████████████████████████████████████▎           | 238/256 [3:13:41<51:15, 170.86s/it]"
     ]
    },
    {
     "name": "stdout",
     "output_type": "stream",
     "text": [
      "/lus/theta-fs0/projects/RL-fold/atrifan/nsp_gb/Cryo-FFEA/run8/eq.4.6.dcd\n"
     ]
    },
    {
     "name": "stderr",
     "output_type": "stream",
     "text": [
      "\r",
      " 93%|██████████████████████████████████████████████████████████████████████████████████████████████████████████████████████████████████████████████████████████▉           | 239/256 [3:16:06<46:12, 163.08s/it]"
     ]
    },
    {
     "name": "stdout",
     "output_type": "stream",
     "text": [
      "/lus/theta-fs0/projects/RL-fold/atrifan/nsp_gb/Cryo-FFEA/run8/eq.4.7.dcd\n"
     ]
    },
    {
     "name": "stderr",
     "output_type": "stream",
     "text": [
      "\r",
      " 94%|███████████████████████████████████████████████████████████████████████████████████████████████████████████████████████████████████████████████████████████▋          | 240/256 [3:18:26<41:41, 156.37s/it]"
     ]
    },
    {
     "name": "stdout",
     "output_type": "stream",
     "text": [
      "/lus/theta-fs0/projects/RL-fold/atrifan/nsp_gb/Cryo-FFEA/run9/eq.3.0.dcd\n"
     ]
    },
    {
     "name": "stderr",
     "output_type": "stream",
     "text": [
      "\r",
      " 94%|████████████████████████████████████████████████████████████████████████████████████████████████████████████████████████████████████████████████████████████▎         | 241/256 [3:19:36<32:34, 130.30s/it]"
     ]
    },
    {
     "name": "stdout",
     "output_type": "stream",
     "text": [
      "/lus/theta-fs0/projects/RL-fold/atrifan/nsp_gb/Cryo-FFEA/run9/eq.3.1.dcd\n"
     ]
    },
    {
     "name": "stderr",
     "output_type": "stream",
     "text": [
      "\r",
      " 95%|████████████████████████████████████████████████████████████████████████████████████████████████████████████████████████████████████████████████████████████▉         | 242/256 [3:20:32<25:11, 107.98s/it]"
     ]
    },
    {
     "name": "stdout",
     "output_type": "stream",
     "text": [
      "/lus/theta-fs0/projects/RL-fold/atrifan/nsp_gb/Cryo-FFEA/run9/eq.3.2.dcd\n"
     ]
    },
    {
     "name": "stderr",
     "output_type": "stream",
     "text": [
      "\r",
      " 95%|██████████████████████████████████████████████████████████████████████████████████████████████████████████████████████████████████████████████████████████████▌        | 243/256 [3:21:46<21:12, 97.85s/it]"
     ]
    },
    {
     "name": "stdout",
     "output_type": "stream",
     "text": [
      "/lus/theta-fs0/projects/RL-fold/atrifan/nsp_gb/Cryo-FFEA/run9/eq.3.3.dcd\n"
     ]
    },
    {
     "name": "stderr",
     "output_type": "stream",
     "text": [
      "\r",
      " 95%|███████████████████████████████████████████████████████████████████████████████████████████████████████████████████████████████████████████████████████████████▏       | 244/256 [3:23:04<18:21, 91.78s/it]"
     ]
    },
    {
     "name": "stdout",
     "output_type": "stream",
     "text": [
      "/lus/theta-fs0/projects/RL-fold/atrifan/nsp_gb/Cryo-FFEA/run9/eq.3.4.dcd\n"
     ]
    },
    {
     "name": "stderr",
     "output_type": "stream",
     "text": [
      "\r",
      " 96%|███████████████████████████████████████████████████████████████████████████████████████████████████████████████████████████████████████████████████████████████▊       | 245/256 [3:24:30<16:32, 90.19s/it]"
     ]
    },
    {
     "name": "stdout",
     "output_type": "stream",
     "text": [
      "/lus/theta-fs0/projects/RL-fold/atrifan/nsp_gb/Cryo-FFEA/run9/eq.3.5.dcd\n"
     ]
    },
    {
     "name": "stderr",
     "output_type": "stream",
     "text": [
      "\r",
      " 96%|███████████████████████████████████████████████████████████████████████████████████████████████████████████████████████████████████████████████████████████████▌      | 246/256 [3:28:38<22:56, 137.60s/it]"
     ]
    },
    {
     "name": "stdout",
     "output_type": "stream",
     "text": [
      "/lus/theta-fs0/projects/RL-fold/atrifan/nsp_gb/Cryo-FFEA/run9/eq.3.6.dcd\n"
     ]
    },
    {
     "name": "stderr",
     "output_type": "stream",
     "text": [
      "\r",
      " 96%|████████████████████████████████████████████████████████████████████████████████████████████████████████████████████████████████████████████████████████████████▏     | 247/256 [3:30:43<20:04, 133.85s/it]"
     ]
    },
    {
     "name": "stdout",
     "output_type": "stream",
     "text": [
      "/lus/theta-fs0/projects/RL-fold/atrifan/nsp_gb/Cryo-FFEA/run9/eq.3.7.dcd\n"
     ]
    },
    {
     "name": "stderr",
     "output_type": "stream",
     "text": [
      "\r",
      " 97%|████████████████████████████████████████████████████████████████████████████████████████████████████████████████████████████████████████████████████████████████▊     | 248/256 [3:32:37<17:03, 127.88s/it]"
     ]
    },
    {
     "name": "stdout",
     "output_type": "stream",
     "text": [
      "/lus/theta-fs0/projects/RL-fold/atrifan/nsp_gb/Cryo-FFEA/run9/eq.4.0.dcd\n"
     ]
    },
    {
     "name": "stderr",
     "output_type": "stream",
     "text": [
      "\r",
      " 97%|█████████████████████████████████████████████████████████████████████████████████████████████████████████████████████████████████████████████████████████████████▍    | 249/256 [3:36:52<19:21, 165.96s/it]"
     ]
    },
    {
     "name": "stdout",
     "output_type": "stream",
     "text": [
      "/lus/theta-fs0/projects/RL-fold/atrifan/nsp_gb/Cryo-FFEA/run9/eq.4.1.dcd\n"
     ]
    },
    {
     "name": "stderr",
     "output_type": "stream",
     "text": [
      "\r",
      " 98%|██████████████████████████████████████████████████████████████████████████████████████████████████████████████████████████████████████████████████████████████████    | 250/256 [3:37:24<12:34, 125.67s/it]"
     ]
    },
    {
     "name": "stdout",
     "output_type": "stream",
     "text": [
      "/lus/theta-fs0/projects/RL-fold/atrifan/nsp_gb/Cryo-FFEA/run9/eq.4.2.dcd\n"
     ]
    },
    {
     "name": "stderr",
     "output_type": "stream",
     "text": [
      "\r",
      " 98%|███████████████████████████████████████████████████████████████████████████████████████████████████████████████████████████████████████████████████████████████████▋   | 251/256 [3:37:54<08:04, 96.91s/it]"
     ]
    },
    {
     "name": "stdout",
     "output_type": "stream",
     "text": [
      "/lus/theta-fs0/projects/RL-fold/atrifan/nsp_gb/Cryo-FFEA/run9/eq.4.3.dcd\n"
     ]
    },
    {
     "name": "stderr",
     "output_type": "stream",
     "text": [
      "\r",
      " 98%|████████████████████████████████████████████████████████████████████████████████████████████████████████████████████████████████████████████████████████████████████▍  | 252/256 [3:38:30<05:14, 78.73s/it]"
     ]
    },
    {
     "name": "stdout",
     "output_type": "stream",
     "text": [
      "/lus/theta-fs0/projects/RL-fold/atrifan/nsp_gb/Cryo-FFEA/run9/eq.4.4.dcd\n"
     ]
    },
    {
     "name": "stderr",
     "output_type": "stream",
     "text": [
      "\r",
      " 99%|█████████████████████████████████████████████████████████████████████████████████████████████████████████████████████████████████████████████████████████████████████  | 253/256 [3:39:03<03:15, 65.10s/it]"
     ]
    },
    {
     "name": "stdout",
     "output_type": "stream",
     "text": [
      "/lus/theta-fs0/projects/RL-fold/atrifan/nsp_gb/Cryo-FFEA/run9/eq.4.5.dcd\n"
     ]
    },
    {
     "name": "stderr",
     "output_type": "stream",
     "text": [
      "\r",
      " 99%|█████████████████████████████████████████████████████████████████████████████████████████████████████████████████████████████████████████████████████████████████████▋ | 254/256 [3:39:35<01:50, 55.10s/it]"
     ]
    },
    {
     "name": "stdout",
     "output_type": "stream",
     "text": [
      "/lus/theta-fs0/projects/RL-fold/atrifan/nsp_gb/Cryo-FFEA/run9/eq.4.6.dcd\n"
     ]
    },
    {
     "name": "stderr",
     "output_type": "stream",
     "text": [
      "\r",
      "100%|██████████████████████████████████████████████████████████████████████████████████████████████████████████████████████████████████████████████████████████████████████▎| 255/256 [3:40:09<00:48, 48.92s/it]"
     ]
    },
    {
     "name": "stdout",
     "output_type": "stream",
     "text": [
      "/lus/theta-fs0/projects/RL-fold/atrifan/nsp_gb/Cryo-FFEA/run9/eq.4.7.dcd\n"
     ]
    },
    {
     "name": "stderr",
     "output_type": "stream",
     "text": [
      "100%|███████████████████████████████████████████████████████████████████████████████████████████████████████████████████████████████████████████████████████████████████████| 256/256 [3:40:45<00:00, 51.74s/it]\n"
     ]
    }
   ],
   "source": [
    "dcd_files = sorted(list(Path('/lus/theta-fs0/projects/RL-fold/atrifan/nsp_gb/Cryo-FFEA/').glob(\"run*/eq.*.*.dcd\")))\n",
    "print(\"Total DCD files:\", len(dcd_files))\n",
    "positions = get_all_positions('/lus/theta-fs0/projects/RL-fold/atrifan/nsp_gb/Cryo-FFEA/build_final_rnamdff/system_eq.psf', dcd_files, selection=\"protein and name CA\")"
   ]
  },
  {
   "cell_type": "code",
   "execution_count": 5,
   "metadata": {},
   "outputs": [],
   "source": [
    "np.save('positions_7egq.npy', positions)"
   ]
  },
  {
   "cell_type": "code",
   "execution_count": 6,
   "metadata": {},
   "outputs": [
    {
     "name": "stdout",
     "output_type": "stream",
     "text": [
      "Shape of coords array in iterative_means: (260723, 3, 6650)\n",
      "Iteration #1 with an error of 12.811807632446289\n",
      "Iteration #2 with an error of 0.005033491645008326\n",
      "Iteration #3 with an error of 0.0006145688821561635\n"
     ]
    }
   ],
   "source": [
    "positions = np.load('positions_7egq.npy')\n",
    "from mdlearn.data.preprocess.align import iterative_means_align\n",
    "itr, avg_coords, e_rmsd, coords = iterative_means_align(\n",
    "    positions, eps=0.001, max_iter=10, num_workers=16, verbose=True\n",
    ")"
   ]
  },
  {
   "cell_type": "code",
   "execution_count": 7,
   "metadata": {},
   "outputs": [
    {
     "name": "stdout",
     "output_type": "stream",
     "text": [
      "2nd order Spatial Decorrelation -> Looking for 19950 sources\n",
      "2nd order Spatial Decorrelation -> Removing the mean value\n",
      "2nd order Spatial Decorrelation -> Whitening the data\n"
     ]
    },
    {
     "data": {
      "text/plain": [
       "[<matplotlib.lines.Line2D at 0x7fa9447b1d90>]"
      ]
     },
     "execution_count": 7,
     "metadata": {},
     "output_type": "execute_result"
    },
    {
     "data": {
      "image/png": "[encoded data removed]",
      "text/plain": [
       "<Figure size 432x288 with 1 Axes>"
      ]
     },
     "metadata": {
      "needs_background": "light"
     },
     "output_type": "display_data"
    }
   ],
   "source": [
    "from mdlearn.data.preprocess.decorrelation.spatial import SD2\n",
    "Y, S, B, U = SD2(coords.reshape(-1, 6650*3), m=6650*3, verbose=True)\n",
    "plt.semilogy(S[0:250], 'ro-')"
   ]
  },
  {
   "cell_type": "code",
   "execution_count": 8,
   "metadata": {},
   "outputs": [],
   "source": [
    "np.save(output_path / \"e_rmsd.npy\", e_rmsd)\n",
    "np.save(output_path / \"coords.npy\", coords)\n",
    "np.save(output_path / \"Y.npy\", Y)\n",
    "np.save(output_path / \"S.npy\", S)\n",
    "np.save(output_path / \"B.npy\", B)\n",
    "np.save(output_path / \"U.npy\", U)"
   ]
  },
  {
   "cell_type": "code",
   "execution_count": 9,
   "metadata": {},
   "outputs": [],
   "source": [
    "from mdlearn.data.preprocess.decorrelation.spatial import SD4\n",
    "W = SD4(Y[0:60,:], m=60, U=U[0:60,:], verbose=False)"
   ]
  },
  {
   "cell_type": "code",
   "execution_count": 10,
   "metadata": {},
   "outputs": [],
   "source": [
    "np.save(output_path / \"W.npy\", W)"
   ]
  },
  {
   "cell_type": "code",
   "execution_count": 11,
   "metadata": {},
   "outputs": [
    {
     "data": {
      "text/plain": [
       "(19950, 260723)"
      ]
     },
     "execution_count": 11,
     "metadata": {},
     "output_type": "execute_result"
    }
   ],
   "source": [
    "coordsAll = np.reshape(coords, (len(coords), coords.shape[1] * coords.shape[2])).T\n",
    "avgCoordsAll = np.mean(coordsAll, 1)\n",
    "tmpAll = np.reshape(np.tile(avgCoordsAll, coords.shape[0]), (coords.shape[0], coords.shape[1] * coords.shape[2])).T \n",
    "caDevsMDall = coordsAll - tmpAll\n",
    "caDevsMDall.shape"
   ]
  },
  {
   "cell_type": "code",
   "execution_count": 16,
   "metadata": {},
   "outputs": [
    {
     "data": {
      "text/plain": [
       "(60, 260723)"
      ]
     },
     "execution_count": 16,
     "metadata": {},
     "output_type": "execute_result"
    }
   ],
   "source": [
    "ZPrj4 = W.dot(caDevsMDall)\n",
    "np.save(output_path / \"ZPrj4.npy\", ZPrj4)\n",
    "ZPrj4.shape"
   ]
  },
  {
   "cell_type": "code",
   "execution_count": 19,
   "metadata": {},
   "outputs": [],
   "source": [
    "np.save(output_path / \"ZPrj4.npy\", ZPrj4)"
   ]
  },
  {
   "cell_type": "code",
   "execution_count": null,
   "metadata": {},
   "outputs": [],
   "source": [
    "ZPrj4 = np.load()"
   ]
  },
  {
   "cell_type": "code",
   "execution_count": 6,
   "metadata": {},
   "outputs": [],
   "source": [
    "ZPrj4 = np.load(output_path/'ZPrj4.npy')\n",
    "e_rmsd = np.load(output_path/'e_rmsd.npy')"
   ]
  },
  {
   "cell_type": "code",
   "execution_count": 24,
   "metadata": {},
   "outputs": [
    {
     "data": {
      "image/png": "[encoded data removed]",
      "text/plain": [
       "<Figure size 432x288 with 2 Axes>"
      ]
     },
     "metadata": {
      "needs_background": "light"
     },
     "output_type": "display_data"
    }
   ],
   "source": [
    "show_scatter(ZPrj4.T[::20, :3], e_rmsd[-1][::20])"
   ]
  },
  {
   "cell_type": "code",
   "execution_count": 9,
   "metadata": {},
   "outputs": [],
   "source": [
    "from mdlearn.nn.models.ae.linear import LinearAETrainer"
   ]
  },
  {
   "cell_type": "code",
   "execution_count": 30,
   "metadata": {},
   "outputs": [],
   "source": [
    "trainer = LinearAETrainer(\n",
    "    input_dim=60,\n",
    "    latent_dim=20,\n",
    "    hidden_neurons=[32, 24],\n",
    "    epochs=500,\n",
    "    verbose=False,\n",
    "    checkpoint_log_every=100,\n",
    "    plot_log_every=100,\n",
    "    plot_n_samples=10000,\n",
    "    plot_method=\"raw\",\n",
    "    device=\"cpu\",\n",
    ")"
   ]
  },
  {
   "cell_type": "code",
   "execution_count": 31,
   "metadata": {},
   "outputs": [
    {
     "data": {
      "text/plain": [
       "{'seed': 42,\n",
       " 'scalar_dset_names': [],\n",
       " 'in_gpu_memory': False,\n",
       " 'num_data_workers': 0,\n",
       " 'persistent_workers': False,\n",
       " 'prefetch_factor': 2,\n",
       " 'split_pct': 0.8,\n",
       " 'split_method': 'random',\n",
       " 'batch_size': 128,\n",
       " 'shuffle': True,\n",
       " 'device': device(type='cpu'),\n",
       " 'epochs': 500,\n",
       " 'verbose': False,\n",
       " 'clip_grad_max_norm': 10.0,\n",
       " 'checkpoint_log_every': 100,\n",
       " 'plot_log_every': 100,\n",
       " 'plot_n_samples': 10000,\n",
       " 'plot_method': 'raw',\n",
       " 'train_subsample_pct': 1.0,\n",
       " 'valid_subsample_pct': 1.0,\n",
       " 'use_wandb': False,\n",
       " 'optimizer_name': 'RMSprop',\n",
       " 'optimizer_hparams': {'lr': 0.001, 'weight_decay': 1e-05},\n",
       " 'scheduler_name': None,\n",
       " 'scheduler_hparams': {},\n",
       " 'model': LinearAE(\n",
       "   (encoder): DenseNet(\n",
       "     (model): Sequential(\n",
       "       (0): Linear(in_features=60, out_features=32, bias=True)\n",
       "       (1): ReLU()\n",
       "       (2): Linear(in_features=32, out_features=24, bias=True)\n",
       "       (3): ReLU()\n",
       "       (4): Linear(in_features=24, out_features=20, bias=True)\n",
       "     )\n",
       "   )\n",
       "   (decoder): DenseNet(\n",
       "     (model): Sequential(\n",
       "       (0): Linear(in_features=20, out_features=24, bias=True)\n",
       "       (1): ReLU()\n",
       "       (2): Linear(in_features=24, out_features=32, bias=True)\n",
       "       (3): ReLU()\n",
       "       (4): Linear(in_features=32, out_features=60, bias=True)\n",
       "     )\n",
       "   )\n",
       " ),\n",
       " 'optimizer': RMSprop (\n",
       " Parameter Group 0\n",
       "     alpha: 0.99\n",
       "     centered: False\n",
       "     eps: 1e-08\n",
       "     lr: 0.001\n",
       "     momentum: 0\n",
       "     weight_decay: 1e-05\n",
       " ),\n",
       " 'scheduler': None,\n",
       " 'loss_curve_': {'train': [], 'validation': []}}"
      ]
     },
     "execution_count": 31,
     "metadata": {},
     "output_type": "execute_result"
    }
   ],
   "source": [
    "vars(trainer)"
   ]
  },
  {
   "cell_type": "code",
   "execution_count": 32,
   "metadata": {},
   "outputs": [
    {
     "data": {
      "text/plain": [
       "(260723, 60)"
      ]
     },
     "execution_count": 32,
     "metadata": {},
     "output_type": "execute_result"
    }
   ],
   "source": [
    "X = ZPrj4.T\n",
    "scalars = {\"rmsd\": e_rmsd[-1]}\n",
    "np.save(\"X_all.npy\", X)\n",
    "X.shape"
   ]
  },
  {
   "cell_type": "code",
   "execution_count": 33,
   "metadata": {},
   "outputs": [],
   "source": [
    "X = np.load(\"X_all.npy\")\n",
    "scalars = {\"rmsd\": e_rmsd[-1]}"
   ]
  },
  {
   "cell_type": "code",
   "execution_count": 43,
   "metadata": {},
   "outputs": [],
   "source": [
    "rm -rf ae-run-2\n"
   ]
  },
  {
   "cell_type": "code",
   "execution_count": 44,
   "metadata": {},
   "outputs": [
    {
     "data": {
      "text/plain": [
       "<AxesSubplot:>"
      ]
     },
     "execution_count": 44,
     "metadata": {},
     "output_type": "execute_result"
    },
    {
     "data": {
      "image/png": "[encoded data removed]",
      "text/plain": [
       "<Figure size 432x288 with 1 Axes>"
      ]
     },
     "metadata": {
      "needs_background": "light"
     },
     "output_type": "display_data"
    }
   ],
   "source": [
    "import pandas as pd\n",
    "trainer.fit(X, scalars, \"ae-run-2\")\n",
    "pd.DataFrame(trainer.loss_curve_).plot()"
   ]
  },
  {
   "cell_type": "markdown",
   "metadata": {},
   "source": [
    "\n",
    "\n"
   ]
  },
  {
   "cell_type": "code",
   "execution_count": 45,
   "metadata": {},
   "outputs": [
    {
     "data": {
      "text/plain": [
       "0.5370926690452239"
      ]
     },
     "execution_count": 45,
     "metadata": {},
     "output_type": "execute_result"
    }
   ],
   "source": [
    "pd.DataFrame(trainer.loss_curve_).to_csv(\"./ae-run-2/loss.csv\")\n",
    "z, loss = trainer.predict(X, checkpoint=\"./ae-run-2/checkpoints/checkpoint-epoch-500.pt\")\n",
    "loss"
   ]
  },
  {
   "cell_type": "markdown",
   "metadata": {},
   "source": [
    "np.save('ZPrj4_7egq.npy', ZPrj4)\n",
    "np.save('coords_aligned_7egq.npy', coords)\n",
    "np.save('Y_7egq.npy', Y)\n",
    "np.save('S_7egq.npy', S)\n",
    "np.save('U_7egq.npy', U)\n",
    "np.save('B_7egq.npy', B)\n",
    "np.save('eRMSD_7egq.npy', e_rmsd)"
   ]
  },
  {
   "cell_type": "code",
   "execution_count": 46,
   "metadata": {},
   "outputs": [
    {
     "data": {
      "image/png": "[encoded data removed]",
      "text/plain": [
       "<Figure size 432x288 with 2 Axes>"
      ]
     },
     "metadata": {
      "needs_background": "light"
     },
     "output_type": "display_data"
    }
   ],
   "source": [
    "show_scatter(z[::20, 0:3], e_rmsd[-1][::20])"
   ]
  },
  {
   "cell_type": "code",
   "execution_count": 20,
   "metadata": {},
   "outputs": [],
   "source": [
    "np.save('z_AE_7egq.npy', z); "
   ]
  },
  {
   "cell_type": "code",
   "execution_count": null,
   "metadata": {},
   "outputs": [],
   "source": []
  }
 ],
 "metadata": {
  "kernelspec": {
   "display_name": "Python 3",
   "language": "python",
   "name": "python3"
  },
  "language_info": {
   "codemirror_mode": {
    "name": "ipython",
    "version": 3
   },
   "file_extension": ".py",
   "mimetype": "text/x-python",
   "name": "python",
   "nbconvert_exporter": "python",
   "pygments_lexer": "ipython3",
   "version": "3.7.4"
  }
 },
 "nbformat": 4,
 "nbformat_minor": 4
}
